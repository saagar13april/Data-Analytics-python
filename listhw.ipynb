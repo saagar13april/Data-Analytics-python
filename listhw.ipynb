{
 "cells": [
  {
   "cell_type": "code",
   "execution_count": 4,
   "metadata": {},
   "outputs": [
    {
     "name": "stdout",
     "output_type": "stream",
     "text": [
      "['1,2,3,']\n"
     ]
    }
   ],
   "source": [
    "list = []\n",
    "x = input('enter a value')\n",
    "list.append(x)\n",
    "\n",
    "print(list)\n"
   ]
  },
  {
   "cell_type": "code",
   "execution_count": 7,
   "metadata": {},
   "outputs": [
    {
     "name": "stdout",
     "output_type": "stream",
     "text": [
      "integer not present\n"
     ]
    }
   ],
   "source": [
    "integers = [5 , 8 , -9 , 2 , -16 , 3 , 10 , -8]\n",
    "user = int(input('enter integer'))\n",
    "\n",
    "if user in integers:\n",
    "    print ('integer present')\n",
    "else:\n",
    "    print ('integer not present')"
   ]
  },
  {
   "cell_type": "code",
   "execution_count": 11,
   "metadata": {},
   "outputs": [
    {
     "name": "stdout",
     "output_type": "stream",
     "text": [
      "['hard', 'is', 'key', 'success', 'the', 'to', 'work']\n"
     ]
    }
   ],
   "source": [
    "list = ['hard', 'work' , 'is' , 'the' , 'key' , 'to' , 'success']\n",
    "\n",
    "sort = sorted(list)\n",
    "\n",
    "print(sort)\n"
   ]
  },
  {
   "cell_type": "code",
   "execution_count": 14,
   "metadata": {},
   "outputs": [
    {
     "name": "stdout",
     "output_type": "stream",
     "text": [
      " max value in list 99\n"
     ]
    }
   ],
   "source": [
    "list_int = [ 12 , 5 , -7 , -9 , 55 ,4 , 41 , 99]\n",
    "\n",
    "maxvalue = max(list_int)\n",
    "\n",
    "print(f' max value in list {maxvalue}')"
   ]
  },
  {
   "cell_type": "code",
   "execution_count": 19,
   "metadata": {},
   "outputs": [
    {
     "name": "stdout",
     "output_type": "stream",
     "text": [
      "{5, -9}\n"
     ]
    }
   ],
   "source": [
    "l1 = [5 , 8 , -9 , 2 , -16 , 3 , 10 , -8]\n",
    "l2 = [ 12 , 5 , -7 , -9 , 55 ,4 , 41 , 99]\n",
    "print (set (l1) . intersection (l2))"
   ]
  },
  {
   "cell_type": "code",
   "execution_count": 30,
   "metadata": {},
   "outputs": [
    {
     "name": "stdout",
     "output_type": "stream",
     "text": [
      "i love my   india\n"
     ]
    }
   ],
   "source": [
    "string = 'i love my sagar kumar india'\n",
    "\n",
    "sub_string = ['sagar' , 'kumar']\n",
    "\n",
    "for sub in sub_string:\n",
    "    string = string.replace(' '+ sub + ' ', ' ')\n",
    "\n",
    "print (string)\n"
   ]
  },
  {
   "cell_type": "code",
   "execution_count": null,
   "metadata": {},
   "outputs": [],
   "source": [
    "# one ques remains here"
   ]
  },
  {
   "cell_type": "code",
   "execution_count": 35,
   "metadata": {},
   "outputs": [
    {
     "name": "stdout",
     "output_type": "stream",
     "text": [
      "[1, 5, 9, 2, 10, 14, 16]\n"
     ]
    }
   ],
   "source": [
    "list = [1 ,5 , 9 ,5 ,2 ,10 ,14 , 9 , 1 , 10 , 16 ,14 ]\n",
    "\n",
    "result = []\n",
    "for i in list:\n",
    "    if i not in result:\n",
    "        result.append(i)\n",
    "\n",
    "print (str(result))    # duplicate removed"
   ]
  },
  {
   "cell_type": "code",
   "execution_count": 40,
   "metadata": {},
   "outputs": [
    {
     "name": "stdout",
     "output_type": "stream",
     "text": [
      " max length is -> Three\n"
     ]
    }
   ],
   "source": [
    "list = ['One' , 'Two' , 'Three' , 'Four' , 'Five' , 'Six' , 'Ten']\n",
    "\n",
    "max_len = -1\n",
    "for ele in list:\n",
    "    if len(ele) > max_len:\n",
    "        max_len = len (ele)\n",
    "        res = ele\n",
    "\n",
    "print (f' max length is -> {res}')"
   ]
  },
  {
   "cell_type": "code",
   "execution_count": 46,
   "metadata": {},
   "outputs": [
    {
     "name": "stdout",
     "output_type": "stream",
     "text": [
      "50\n"
     ]
    }
   ],
   "source": [
    "list = [1, 5, 9, 2, 10, 14, 16 , 8]\n",
    "\n",
    "even_sum = 0  # intialize\n",
    "\n",
    "for i in list:\n",
    "    if i%2 == 0 :\n",
    "        even_sum += i\n",
    "print(str(even_sum))"
   ]
  },
  {
   "cell_type": "code",
   "execution_count": null,
   "metadata": {},
   "outputs": [],
   "source": [
    "#  two ques remain"
   ]
  },
  {
   "cell_type": "code",
   "execution_count": 29,
   "metadata": {},
   "outputs": [
    {
     "name": "stdout",
     "output_type": "stream",
     "text": [
      "i love my india is great\n"
     ]
    }
   ],
   "source": [
    "list = ['i' , 'love' , 'my' , 'india' , 'is' , 'great']\n",
    "\n",
    "\n",
    "list = ' '.join (list) \n",
    "\n",
    "print(list)\n",
    "\n"
   ]
  },
  {
   "cell_type": "code",
   "execution_count": 34,
   "metadata": {},
   "outputs": [
    {
     "name": "stdout",
     "output_type": "stream",
     "text": [
      " median of the list 9.5\n"
     ]
    }
   ],
   "source": [
    "list =   [1 ,5 , 9 , 10 , 16 ,14 ]\n",
    "\n",
    "list.sort()\n",
    "\n",
    "median = len (list) // 2\n",
    "\n",
    "res = (list[median]  + list[~median] ) / 2\n",
    "\n",
    "print(f' median of the list {str(res)}')\n",
    "\n",
    "\n"
   ]
  },
  {
   "cell_type": "code",
   "execution_count": 36,
   "metadata": {},
   "outputs": [
    {
     "name": "stdout",
     "output_type": "stream",
     "text": [
      "reverse list: ['great', 'is', 'india', 'my', 'love', 'i']\n"
     ]
    }
   ],
   "source": [
    "list =  ['i' , 'love' , 'my' , 'india' , 'is' , 'great']\n",
    "\n",
    "list.reverse()\n",
    "\n",
    "print (f'reverse list: {list}')"
   ]
  },
  {
   "cell_type": "code",
   "execution_count": null,
   "metadata": {},
   "outputs": [],
   "source": [
    "#  average list "
   ]
  },
  {
   "cell_type": "code",
   "execution_count": 12,
   "metadata": {},
   "outputs": [
    {
     "name": "stdout",
     "output_type": "stream",
     "text": [
      "4\n"
     ]
    }
   ],
   "source": [
    "list  = [ 1 , 3 ,7 , 5 , 11 , -9 , 4 ]\n",
    "\n",
    "print(list.index(11))"
   ]
  },
  {
   "cell_type": "code",
   "execution_count": 23,
   "metadata": {},
   "outputs": [
    {
     "name": "stdout",
     "output_type": "stream",
     "text": [
      "hello\n"
     ]
    }
   ],
   "source": [
    "def remove(list):\n",
    "    return list.replace(' ' , \"\")\n",
    "\n",
    "list = 'h e l l o'\n",
    "\n",
    "print (remove(list))"
   ]
  },
  {
   "cell_type": "code",
   "execution_count": 30,
   "metadata": {},
   "outputs": [
    {
     "name": "stdout",
     "output_type": "stream",
     "text": [
      " descending order --> [45, 10, 9, 7, 5, 1, -8, -11]\n",
      " ascending order --> [-11, -8, 1, 5, 7, 9, 10, 45]\n"
     ]
    }
   ],
   "source": [
    "list = [ 1 , 9 , -8 , 10 , -11 , 45 , 7 , 5]\n",
    "\n",
    "list.sort(reverse = True)\n",
    "\n",
    "print(f' descending order --> {list}')\n",
    "\n",
    "print(f' ascending order --> {sorted(list)}')          #both done"
   ]
  },
  {
   "cell_type": "code",
   "execution_count": 33,
   "metadata": {},
   "outputs": [
    {
     "name": "stdout",
     "output_type": "stream",
     "text": [
      "['5', 1, 9, -8, 10, -11, 45, 7, 5]\n"
     ]
    }
   ],
   "source": [
    "list = [ 1 , 9 , -8 , 10 , -11 , 45 , 7 , 5]\n",
    "\n",
    "\n",
    "user = input ('enter a value')\n",
    "\n",
    "list.insert(0,user)\n",
    "\n",
    "print(str(list))"
   ]
  },
  {
   "cell_type": "code",
   "execution_count": 37,
   "metadata": {},
   "outputs": [
    {
     "name": "stdout",
     "output_type": "stream",
     "text": [
      "[1, 8, 9, 3, 5, 10, 9, 0, 6, 7]\n"
     ]
    }
   ],
   "source": [
    "list1 =  [1,8,9,3,5]\n",
    "list2 =  [10,9,0,6,7]\n",
    "\n",
    "list1 = list1 + list2\n",
    "\n",
    "print(str(list1))"
   ]
  },
  {
   "cell_type": "code",
   "execution_count": null,
   "metadata": {},
   "outputs": [],
   "source": []
  }
 ],
 "metadata": {
  "kernelspec": {
   "display_name": "base",
   "language": "python",
   "name": "python3"
  },
  "language_info": {
   "codemirror_mode": {
    "name": "ipython",
    "version": 3
   },
   "file_extension": ".py",
   "mimetype": "text/x-python",
   "name": "python",
   "nbconvert_exporter": "python",
   "pygments_lexer": "ipython3",
   "version": "3.10.8"
  },
  "orig_nbformat": 4,
  "vscode": {
   "interpreter": {
    "hash": "b14076757f31534bf71a7a1238d985fe39fb51a1b6902fe9aa0c842ffbdb42f3"
   }
  }
 },
 "nbformat": 4,
 "nbformat_minor": 2
}
