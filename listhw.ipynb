{
 "cells": [
  {
   "cell_type": "code",
   "execution_count": null,
   "metadata": {},
   "outputs": [],
   "source": [
    "a = []\n",
    "\n",
    "integers = int(input('enter a number'))\n",
    "\n",
    "\n"
   ]
  },
  {
   "cell_type": "code",
   "execution_count": 1,
   "metadata": {},
   "outputs": [
    {
     "ename": "ValueError",
     "evalue": "invalid literal for int() with base 10: 'sagar'",
     "output_type": "error",
     "traceback": [
      "\u001b[1;31m---------------------------------------------------------------------------\u001b[0m",
      "\u001b[1;31mValueError\u001b[0m                                Traceback (most recent call last)",
      "Cell \u001b[1;32mIn[1], line 2\u001b[0m\n\u001b[0;32m      1\u001b[0m integers \u001b[39m=\u001b[39m [\u001b[39m5\u001b[39m , \u001b[39m8\u001b[39m , \u001b[39m-\u001b[39m\u001b[39m9\u001b[39m , \u001b[39m2\u001b[39m , \u001b[39m-\u001b[39m\u001b[39m16\u001b[39m , \u001b[39m3\u001b[39m , \u001b[39m10\u001b[39m , \u001b[39m-\u001b[39m\u001b[39m8\u001b[39m]\n\u001b[1;32m----> 2\u001b[0m user \u001b[39m=\u001b[39m \u001b[39mint\u001b[39;49m(\u001b[39minput\u001b[39;49m(\u001b[39m'\u001b[39;49m\u001b[39menter integer\u001b[39;49m\u001b[39m'\u001b[39;49m))\n\u001b[0;32m      4\u001b[0m \u001b[39mif\u001b[39;00m integers \u001b[39m==\u001b[39m user:\n\u001b[0;32m      5\u001b[0m     \u001b[39mprint\u001b[39m (\u001b[39m'\u001b[39m\u001b[39minteger present\u001b[39m\u001b[39m'\u001b[39m)\n",
      "\u001b[1;31mValueError\u001b[0m: invalid literal for int() with base 10: 'sagar'"
     ]
    }
   ],
   "source": [
    "integers = [5 , 8 , -9 , 2 , -16 , 3 , 10 , -8]\n",
    "user = int(input('enter integer'))\n",
    "\n",
    "if integers == user:\n",
    "    print ('integer present')\n",
    "\n",
    "else:\n",
    "    print ('integer not present')"
   ]
  },
  {
   "cell_type": "code",
   "execution_count": null,
   "metadata": {},
   "outputs": [],
   "source": []
  }
 ],
 "metadata": {
  "kernelspec": {
   "display_name": "base",
   "language": "python",
   "name": "python3"
  },
  "language_info": {
   "codemirror_mode": {
    "name": "ipython",
    "version": 3
   },
   "file_extension": ".py",
   "mimetype": "text/x-python",
   "name": "python",
   "nbconvert_exporter": "python",
   "pygments_lexer": "ipython3",
   "version": "3.10.8"
  },
  "orig_nbformat": 4,
  "vscode": {
   "interpreter": {
    "hash": "b14076757f31534bf71a7a1238d985fe39fb51a1b6902fe9aa0c842ffbdb42f3"
   }
  }
 },
 "nbformat": 4,
 "nbformat_minor": 2
}
