{
 "cells": [
  {
   "cell_type": "code",
   "execution_count": 3,
   "metadata": {},
   "outputs": [],
   "source": [
    "class Student:\n",
    "    def __init__(self,name,college,qualification):\n",
    "        self.name = name \n",
    "        self.college = college\n",
    "        self.qualification = qualification\n",
    "    \n",
    "    def __repr__(self):\n",
    "        return f\"{self.name} , {self.college} , {self.qualification}\""
   ]
  },
  {
   "cell_type": "code",
   "execution_count": 4,
   "metadata": {},
   "outputs": [],
   "source": [
    "StdObjs = [\n",
    "    Student('Rohan' , 'Sky high' , 'Masters'),\n",
    "    Student( 'Rahul' , 'Sky High' , 'Bachelors'),\n",
    "    Student( 'Raj' , 'Sky High' , 'Masters'),\n",
    "    Student ( 'Ravi' , 'Sky High' , 'Masters'),\n",
    "]"
   ]
  },
  {
   "cell_type": "code",
   "execution_count": 5,
   "metadata": {},
   "outputs": [
    {
     "data": {
      "text/plain": [
       "[Rohan , Sky high , Masters,\n",
       " Rahul , Sky High , Bachelors,\n",
       " Raj , Sky High , Masters,\n",
       " Ravi , Sky High , Masters]"
      ]
     },
     "execution_count": 5,
     "metadata": {},
     "output_type": "execute_result"
    }
   ],
   "source": [
    "StdObjs"
   ]
  },
  {
   "cell_type": "code",
   "execution_count": 22,
   "metadata": {},
   "outputs": [],
   "source": [
    "class Triangle:\n",
    "    def __init__(self , b=0 , h=0):\n",
    "        self.base = b\n",
    "        self.height = h\n",
    "    def area(self):\n",
    "        return self.base * self.height / 2 \n",
    "    def __repr__(self):\n",
    "        return f'Triangle({self.area()})'"
   ]
  },
  {
   "cell_type": "code",
   "execution_count": 28,
   "metadata": {},
   "outputs": [
    {
     "data": {
      "text/plain": [
       "[Triangle(30.0), Triangle(25.0), Triangle(60.0), Triangle(84.0)]"
      ]
     },
     "execution_count": 28,
     "metadata": {},
     "output_type": "execute_result"
    }
   ],
   "source": [
    "data = [Triangle(12,5) ,  Triangle(10,5) ,   Triangle (8,15)  ,  Triangle (12 ,14) ]\n",
    "data"
   ]
  },
  {
   "cell_type": "code",
   "execution_count": 14,
   "metadata": {},
   "outputs": [],
   "source": [
    "import os\n",
    "class Reader:\n",
    "\n",
    "    \"\"\"Read a file and return the content\"\"\"\n",
    "\n",
    "    def __init__(self ,path):\n",
    "        if not os.path.exists(path):\n",
    "            raise Exception ('file does not exist')\n",
    "        self.path = path\n",
    "        self.content =self.read()\n",
    "        \n",
    "    def read(self):\n",
    "        with open(self.path, 'r') as f:\n",
    "            return f.read()\n",
    "    \n",
    "    def count_words(self):\n",
    "        return len(self.content.split())\n",
    "    \n",
    "    def count_chars(self):\n",
    "        return len(self.content)\n",
    "    \n",
    "    def __str__(self):\n",
    "        return self.content"
   ]
  },
  {
   "cell_type": "code",
   "execution_count": 17,
   "metadata": {},
   "outputs": [],
   "source": [
    "r1 = Reader ('nested.py')"
   ]
  },
  {
   "cell_type": "code",
   "execution_count": 18,
   "metadata": {},
   "outputs": [
    {
     "name": "stdout",
     "output_type": "stream",
     "text": [
      "from turtle import *\n",
      "\n",
      "speed('fastest')\n",
      "pencolor('black')\n",
      "fillcolor('yellow')\n",
      "\n",
      "for i in range (6):\n",
      "    fd(150)\n",
      "    for i in range (6):\n",
      "        fd(50)\n",
      "        begin_fill()\n",
      "        for i in range (6):\n",
      "            fd(25)\n",
      "            rt(60)\n",
      "        for i in range (6):\n",
      "                fd(10)\n",
      "                rt(60)\n",
      "        for i in range (6):\n",
      "                fd(5)\n",
      "                rt(60)\n",
      "        end_fill()\n",
      "        rt(60)\n",
      "    rt(60)\n",
      "hideturtle()\n",
      "mainloop()\n",
      "\n",
      "\n",
      "\n",
      "\n",
      "\n"
     ]
    }
   ],
   "source": [
    "print (r1)"
   ]
  },
  {
   "cell_type": "code",
   "execution_count": 19,
   "metadata": {},
   "outputs": [
    {
     "name": "stdout",
     "output_type": "stream",
     "text": [
      "46\n",
      "456\n"
     ]
    }
   ],
   "source": [
    "print(r1.count_words())\n",
<<<<<<< HEAD
    "print(r1.count_chars())"
   ]
  },
  {
   "attachments": {},
   "cell_type": "markdown",
   "metadata": {},
   "source": [
    "-  Inheritance\n"
   ]
  },
  {
   "cell_type": "code",
   "execution_count": 4,
   "metadata": {},
   "outputs": [],
   "source": [
    "class User:\n",
    "    def __init__(self, name , age=21 , gender = 'male'):\n",
    "        self.name = name\n",
    "        self.age =  age \n",
    "        self.gender =  gender\n",
    "        \n",
    "    def __repr__(self):\n",
    "        return self.name"
   ]
  },
  {
   "cell_type": "code",
   "execution_count": 5,
   "metadata": {},
   "outputs": [
    {
     "data": {
      "text/plain": [
       "Sagar"
      ]
     },
     "execution_count": 5,
     "metadata": {},
     "output_type": "execute_result"
    }
   ],
   "source": [
    "u1 = User ('Sagar' , 24 , 'male')\n",
    "u1"
   ]
  },
  {
   "cell_type": "code",
   "execution_count": 28,
   "metadata": {},
   "outputs": [],
   "source": [
    "class Student(User):\n",
    "    def __init__ (self , name , college , klass , rollno , age = 21 , gender = 'male' , ):\n",
    "        super().__init__ (name , age , gender)\n",
    "        self.college = college\n",
    "        self.klass = klass\n",
    "        self.rollno = rollno\n",
    "\n",
    "    def info(self):\n",
    "        print('Student details')\n",
    "        print('Name:- ' , self.name)\n",
    "        print('age:-' , self.age)\n",
    "        print('College:-' , self.college)\n",
    "        print('Class:-' , self.klass)\n",
    "        print('Roll no:-' , self.rollno)\n",
    "        print('*x*'*10)\n"
   ]
  },
  {
   "cell_type": "code",
   "execution_count": 29,
   "metadata": {},
   "outputs": [
    {
     "data": {
      "text/plain": [
       "Sagar"
      ]
     },
     "execution_count": 29,
     "metadata": {},
     "output_type": "execute_result"
    }
   ],
   "source": [
    "s1 = Student ('Sagar' , 'DDU' , 'Msc' , '3698560' , age=25 , gender =  'male')\n",
    "s1"
   ]
  },
  {
   "cell_type": "code",
   "execution_count": 15,
   "metadata": {},
   "outputs": [
    {
     "name": "stdout",
     "output_type": "stream",
     "text": [
      "Student details\n",
      "Name:-  Sagar\n",
      "age:- 25\n",
      "College:- DDU\n",
      "Class:- Msc\n",
      "Roll no:- 3698560\n",
      "*x**x**x**x**x**x**x**x**x**x*\n"
     ]
    }
   ],
   "source": [
    "s1.info()"
   ]
  },
  {
   "cell_type": "code",
   "execution_count": 16,
   "metadata": {},
   "outputs": [],
   "source": [
    "x = [1,2,5,8,7]\n",
    "y = [10,50,60,40]\n"
   ]
  },
  {
   "cell_type": "code",
   "execution_count": 21,
   "metadata": {},
   "outputs": [],
   "source": [
    "class Mylist(list):\n",
    "    def __mul__(self ,other):\n",
    "        output = []\n",
    "        for i,j in zip (self ,other):\n",
    "            output.append(i*j)\n",
    "        return output\n",
    "    def mean (self):\n",
    "        return sum(self)\n",
    "    \n",
    "    def mean(self):\n",
    "        return sum(self)/len(self)"
   ]
  },
  {
   "cell_type": "code",
   "execution_count": 27,
   "metadata": {},
   "outputs": [
    {
     "data": {
      "text/plain": [
       "[10, 40, 200, 240, 150]"
      ]
     },
     "execution_count": 27,
     "metadata": {},
     "output_type": "execute_result"
    }
   ],
   "source": [
    "x = Mylist([1,2,5,8,3,4])\n",
    "y = Mylist([10,20,40,30,50])\n",
    "x*y"
=======
    "print(r1.count_chars())\n",
>>>>>>> 1ff73a8683c16b2ec236570b7085c8dac26c0300
   ]
  },
  {
   "cell_type": "code",
   "execution_count": null,
   "metadata": {},
   "outputs": [],
   "source": []
  }
 ],
 "metadata": {
  "kernelspec": {
   "display_name": "base",
   "language": "python",
   "name": "python3"
  },
  "language_info": {
   "codemirror_mode": {
    "name": "ipython",
    "version": 3
   },
   "file_extension": ".py",
   "mimetype": "text/x-python",
   "name": "python",
   "nbconvert_exporter": "python",
   "pygments_lexer": "ipython3",
   "version": "3.10.8"
  },
  "orig_nbformat": 4,
  "vscode": {
   "interpreter": {
    "hash": "b14076757f31534bf71a7a1238d985fe39fb51a1b6902fe9aa0c842ffbdb42f3"
   }
  }
 },
 "nbformat": 4,
 "nbformat_minor": 2
}
