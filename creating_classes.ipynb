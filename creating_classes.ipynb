{
 "cells": [
  {
   "cell_type": "code",
   "execution_count": 15,
   "metadata": {},
   "outputs": [],
   "source": [
    "class Student:\n",
    "    def __init__(self,name,college,qualification):\n",
    "        self.name = name \n",
    "        self.college = college\n",
    "        self.qualification = qualification\n",
    "    \n",
    "    def __repr__(self):\n",
    "        return f\"{self.name} , {self.college} , {self.qualification}\""
   ]
  },
  {
   "cell_type": "code",
   "execution_count": 16,
   "metadata": {},
   "outputs": [],
   "source": [
    "StdObjs = [\n",
    "    Student('Rohan' , 'Sky high' , 'Masters'),\n",
    "    Student( 'Rahul' , 'Sky High' , 'Bachelors'),\n",
    "    Student( 'Raj' , 'Sky High' , 'Masters'),\n",
    "    Student ( 'Ravi' , 'Sky High' , 'Masters'),\n",
    "]"
   ]
  },
  {
   "cell_type": "code",
   "execution_count": 17,
   "metadata": {},
   "outputs": [
    {
     "data": {
      "text/plain": [
       "[Rohan , Sky high , Masters,\n",
       " Rahul , Sky High , Bachelors,\n",
       " Raj , Sky High , Masters,\n",
       " Ravi , Sky High , Masters]"
      ]
     },
     "execution_count": 17,
     "metadata": {},
     "output_type": "execute_result"
    }
   ],
   "source": [
    "StdObjs"
   ]
  },
  {
   "cell_type": "code",
   "execution_count": 22,
   "metadata": {},
   "outputs": [],
   "source": [
    "class Triangle:\n",
    "    def __init__(self , b=0 , h=0):\n",
    "        self.base = b\n",
    "        self.height = h\n",
    "\n",
    "    def area(self):\n",
    "        return self.base * self.height / 2 \n",
    "    \n",
    "    def __repr__(self):\n",
    "        return f'Triangle({self.area()})'"
   ]
  },
  {
   "cell_type": "code",
   "execution_count": 28,
   "metadata": {},
   "outputs": [
    {
     "data": {
      "text/plain": [
       "[Triangle(30.0), Triangle(25.0), Triangle(60.0), Triangle(84.0)]"
      ]
     },
     "execution_count": 28,
     "metadata": {},
     "output_type": "execute_result"
    }
   ],
   "source": [
    "data = [Triangle(12,5) ,   Triangle(10,5) ,   Triangle (8,15)  , Triangle (12 ,14) ]\n",
    "data"
   ]
  },
  {
   "cell_type": "code",
   "execution_count": 33,
   "metadata": {},
   "outputs": [],
   "source": [
    "import os\n",
    "class Reader:\n",
    "\n",
    "    \"\"\"Read a file and return the content\"\"\"\n",
    "\n",
    "    def __init__(self ,path):\n",
    "        if not os.path.exists(path):\n",
    "            raise Exception ('file does not exist')\n",
    "        self.path = path\n",
    "        self.content =self.read()\n",
    "\n",
    "    def read(self):\n",
    "        with open(self.path, 'r') as f:\n",
    "            return f.read()\n",
    "    \n",
    "    def count_words(self):\n",
    "        return len(self.content.split())\n",
    "    \n",
    "    def count_chars(self):\n",
    "        return len(self.content)\n",
    "    \n",
    "    def __str__(self):\n",
    "        return self.content"
   ]
  },
  {
   "cell_type": "code",
   "execution_count": 41,
   "metadata": {},
   "outputs": [],
   "source": [
    "r1 = Reader ('t1.py')"
   ]
  },
  {
   "cell_type": "code",
   "execution_count": 42,
   "metadata": {},
   "outputs": [
    {
     "name": "stdout",
     "output_type": "stream",
     "text": [
      "from turtle import * # import turtle module\n",
      "\n",
      "speed ('fastest')\n",
      "side = 10\n",
      "size = 40\n",
      "\n",
      "#Creat a hexagon\n",
      "for i in range (side):\n",
      "    fd(size)\n",
      "    lt(360/side)\n",
      "    write(i)\n",
      "\n",
      "\n",
      "hideturtle()\n",
      "mainloop()\n",
      "\n",
      "\n",
      "\n",
      "\n"
     ]
    }
   ],
   "source": [
    "print (r1)"
   ]
  },
  {
   "cell_type": "code",
   "execution_count": 1,
   "metadata": {},
   "outputs": [
    {
     "ename": "NameError",
     "evalue": "name 'r1' is not defined",
     "output_type": "error",
     "traceback": [
      "\u001b[1;31m---------------------------------------------------------------------------\u001b[0m",
      "\u001b[1;31mNameError\u001b[0m                                 Traceback (most recent call last)",
      "Cell \u001b[1;32mIn[1], line 1\u001b[0m\n\u001b[1;32m----> 1\u001b[0m \u001b[39mprint\u001b[39m(r1\u001b[39m.\u001b[39mcount_words())\n\u001b[0;32m      2\u001b[0m \u001b[39mprint\u001b[39m(r1\u001b[39m.\u001b[39mcount_chars())\n\u001b[0;32m      3\u001b[0m \u001b[39mprint\u001b[39m(r1\u001b[39m.\u001b[39mpath)\n",
      "\u001b[1;31mNameError\u001b[0m: name 'r1' is not defined"
     ]
    }
   ],
   "source": [
    "print(r1.count_words())\n",
    "print(r1.count_chars())\n",
    "print(r1.path)"
   ]
  },
  {
   "cell_type": "code",
   "execution_count": null,
   "metadata": {},
   "outputs": [],
   "source": []
  }
 ],
 "metadata": {
  "kernelspec": {
   "display_name": "base",
   "language": "python",
   "name": "python3"
  },
  "language_info": {
   "codemirror_mode": {
    "name": "ipython",
    "version": 3
   },
   "file_extension": ".py",
   "mimetype": "text/x-python",
   "name": "python",
   "nbconvert_exporter": "python",
   "pygments_lexer": "ipython3",
   "version": "3.10.8"
  },
  "orig_nbformat": 4,
  "vscode": {
   "interpreter": {
    "hash": "b14076757f31534bf71a7a1238d985fe39fb51a1b6902fe9aa0c842ffbdb42f3"
   }
  }
 },
 "nbformat": 4,
 "nbformat_minor": 2
}
