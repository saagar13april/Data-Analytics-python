{
 "cells": [
  {
   "cell_type": "code",
   "execution_count": 1,
   "metadata": {},
   "outputs": [
    {
     "name": "stdout",
     "output_type": "stream",
     "text": [
      "sagarkumar\n"
     ]
    }
   ],
   "source": [
    "string = 'sagarkumar'\n",
    "print(string)"
   ]
  },
  {
   "cell_type": "code",
   "execution_count": null,
   "metadata": {},
   "outputs": [
    {
     "name": "stdout",
     "output_type": "stream",
     "text": [
      "4\n"
     ]
    }
   ],
   "source": [
    "chr = input ('enter a name')\n",
    "print (len(chr))"
   ]
  },
  {
   "cell_type": "code",
   "execution_count": null,
   "metadata": {},
   "outputs": [
    {
     "name": "stdout",
     "output_type": "stream",
     "text": [
      "great\n"
     ]
    }
   ],
   "source": [
    "word1 = 'python is great'\n",
    "\n",
    "last_word = print (word1 [-5:])"
   ]
  },
  {
   "cell_type": "code",
   "execution_count": null,
   "metadata": {},
   "outputs": [
    {
     "name": "stdout",
     "output_type": "stream",
     "text": [
      "p\n",
      "y\n",
      "t\n",
      "h\n",
      "o\n",
      "n\n",
      " \n",
      "i\n",
      "s\n",
      " \n",
      "e\n",
      "v\n",
      "e\n",
      "r\n",
      "y\n",
      "w\n",
      "h\n",
      "e\n",
      "r\n",
      "e\n"
     ]
    }
   ],
   "source": [
    "word2 = 'python is everywhere'\n",
    "print(word2[0])\n",
    "print(word2 [1])\n",
    "print(word2 [2])\n",
    "print(word2 [3])\n",
    "print(word2 [4])\n",
    "print(word2 [5])\n",
    "print(word2 [6])\n",
    "print(word2 [7])\n",
    "print(word2 [8])\n",
    "print(word2 [9])\n",
    "print(word2 [10])\n",
    "print(word2 [11])\n",
    "print(word2 [12])\n",
    "print(word2 [13])\n",
    "print(word2 [14])\n",
    "print(word2 [15])\n",
    "print(word2 [16])\n",
    "print(word2 [17])\n",
    "print(word2 [18])\n",
    "print(word2 [19])\n",
    "\n"
   ]
  },
  {
   "cell_type": "code",
   "execution_count": null,
   "metadata": {},
   "outputs": [
    {
     "name": "stdout",
     "output_type": "stream",
     "text": [
      "!dlroW olleH\n"
     ]
    }
   ],
   "source": [
    "string = 'Hello World!'\n",
    "\n",
    "reverse_string = print (string[::-1])"
   ]
  },
  {
   "cell_type": "code",
   "execution_count": null,
   "metadata": {},
   "outputs": [
    {
     "data": {
      "text/plain": [
       "'HOW ARE YOU?'"
      ]
     },
     "execution_count": 22,
     "metadata": {},
     "output_type": "execute_result"
    }
   ],
   "source": [
    "string = 'How are you?'\n",
    "string.upper()"
   ]
  },
  {
   "cell_type": "code",
   "execution_count": null,
   "metadata": {},
   "outputs": [
    {
     "data": {
      "text/plain": [
       "'how is it going?'"
      ]
     },
     "execution_count": 25,
     "metadata": {},
     "output_type": "execute_result"
    }
   ],
   "source": [
    "string = 'How Is It Going?'\n",
    "string.lower()"
   ]
  },
  {
   "cell_type": "code",
   "execution_count": null,
   "metadata": {},
   "outputs": [
    {
     "name": "stdout",
     "output_type": "stream",
     "text": [
      "python is easy to learn\n"
     ]
    }
   ],
   "source": [
    "words = ['python' , 'is' , 'easy' , 'to' , 'learn']\n",
    "\n",
    "print (' '.join(words))"
   ]
  },
  {
   "cell_type": "code",
   "execution_count": null,
   "metadata": {},
   "outputs": [
    {
     "name": "stdout",
     "output_type": "stream",
     "text": [
      "python \n",
      "is \n",
      "easy \n",
      "learn\n"
     ]
    }
   ],
   "source": [
    "string = \"\"\"python \n",
    "is \n",
    "easy \n",
    "learn\"\"\"\n",
    "print(string)"
   ]
  },
  {
   "cell_type": "code",
   "execution_count": null,
   "metadata": {},
   "outputs": [
    {
     "name": "stdout",
     "output_type": "stream",
     "text": [
      "python \n",
      "is \n",
      "easy \n",
      "learn\n"
     ]
    }
   ],
   "source": [
    "print (string ,sep = '\\n')"
   ]
  },
  {
   "cell_type": "code",
   "execution_count": null,
   "metadata": {},
   "outputs": [
    {
     "name": "stdout",
     "output_type": "stream",
     "text": [
      "the variable is 15\n"
     ]
    }
   ],
   "source": [
    "string = ['the', 'variable' , 'is'  , '15']\n",
    "\n",
    "print (' '.join(string))"
   ]
  },
  {
   "cell_type": "code",
   "execution_count": null,
   "metadata": {},
   "outputs": [
    {
     "name": "stdout",
     "output_type": "stream",
     "text": [
      "python is great.\n"
     ]
    }
   ],
   "source": [
    "s1 = 'python'\n",
    "s2 = 'is'\n",
    "s3 = 'great.'\n",
    "\n",
    "merged_string = s1 + ' ' + s2 + ' ' + s3\n",
    "\n",
    "print(merged_string)\n",
    "\n"
   ]
  },
  {
   "cell_type": "code",
   "execution_count": null,
   "metadata": {},
   "outputs": [
    {
     "name": "stdout",
     "output_type": "stream",
     "text": [
      "pythonisgreat.pythonisgreat.pythonisgreat.pythonisgreat.pythonisgreat.pythonisgreat.pythonisgreat.pythonisgreat.pythonisgreat.pythonisgreat.pythonisgreat.pythonisgreat.pythonisgreat.pythonisgreat.pythonisgreat.pythonisgreat.pythonisgreat.pythonisgreat.pythonisgreat.pythonisgreat.\n"
     ]
    }
   ],
   "source": [
    "print (merged_string * 20 )"
   ]
  },
  {
   "cell_type": "code",
   "execution_count": null,
   "metadata": {},
   "outputs": [
    {
     "name": "stdout",
     "output_type": "stream",
     "text": [
      "1.\n",
      "2.\n",
      "3.\n",
      "4.\n",
      "5.\n",
      "6.\n",
      "7.\n",
      "8.\n",
      "9.\n"
     ]
    }
   ],
   "source": [
    "num = ('''1.\n",
    "2.\n",
    "3.\n",
    "4.\n",
    "5.\n",
    "6.\n",
    "7.\n",
    "8.\n",
    "9.''')\n",
    "print(num)"
   ]
  },
  {
   "cell_type": "code",
   "execution_count": null,
   "metadata": {},
   "outputs": [
    {
     "name": "stdout",
     "output_type": "stream",
     "text": [
      "s\n",
      "a\n",
      "g\n",
      "a\n",
      "r\n"
     ]
    }
   ],
   "source": [
    "sentence = input(\"enter sentence:\")\n",
    "print (*sentence, sep='\\n')"
   ]
  },
  {
   "cell_type": "code",
   "execution_count": null,
   "metadata": {},
   "outputs": [
    {
     "name": "stdout",
     "output_type": "stream",
     "text": [
      "True\n"
     ]
    }
   ],
   "source": [
    "sms = input ('enter a sms')\n",
    "print(sms.endswith('?'))"
   ]
  },
  {
   "cell_type": "code",
   "execution_count": null,
   "metadata": {},
   "outputs": [
    {
     "name": "stdout",
     "output_type": "stream",
     "text": [
      "0\n"
     ]
    }
   ],
   "source": [
    "string = input('enter name ')\n",
    "\n",
    "print(string.count('e'))\n"
   ]
  },
  {
   "cell_type": "code",
   "execution_count": null,
   "metadata": {},
   "outputs": [
    {
     "data": {
      "text/plain": [
       "'this is not a good string'"
      ]
     },
     "execution_count": 12,
     "metadata": {},
     "output_type": "execute_result"
    }
   ],
   "source": [
    "text = '   this is not a good string   '\n",
    "text.strip()"
   ]
  },
  {
   "cell_type": "code",
   "execution_count": 2,
   "metadata": {},
   "outputs": [
    {
     "name": "stdout",
     "output_type": "stream",
     "text": [
      "found\n"
     ]
    }
   ],
   "source": [
    "user = input ('enter a name')\n",
    "\n",
    "for i in user:\n",
    "    if i.isupper():\n",
    "        print('found')\n",
    "        break"
   ]
  },
  {
   "cell_type": "code",
   "execution_count": null,
   "metadata": {},
   "outputs": [
    {
     "name": "stdout",
     "output_type": "stream",
     "text": [
      "final list  = ['Joe', 'David ', 'Mark ,Tom ', 'Chris ', 'Robert']\n"
     ]
    }
   ],
   "source": [
    "names = 'Joe, David , Mark ,Tom , Chris , Robert'\n",
    "\n",
    "type(names)\n",
    "\n",
    "res = names.strip('][').split(', ')\n",
    "\n",
    "print ('final list  =',res)\n",
    "\n"
   ]
  },
  {
   "cell_type": "code",
   "execution_count": 3,
   "metadata": {},
   "outputs": [
    {
     "name": "stdout",
     "output_type": "stream",
     "text": [
      "thisaye  isaye  someaye  textaye\n"
     ]
    }
   ],
   "source": [
    "msg_string = '  '.join(['thisaye' ,'isaye' ,'someaye' ,'textaye' ])\n",
    "\n",
    "print(msg_string)"
   ]
  },
  {
   "cell_type": "code",
   "execution_count": 7,
   "metadata": {},
   "outputs": [
    {
     "name": "stdout",
     "output_type": "stream",
     "text": [
      "Yes it is present\n"
     ]
    }
   ],
   "source": [
    "user_string = input('enter a string')\n",
    "\n",
    "if 'fyi' in user_string:\n",
    "    print ('Yes it is present')\n",
    "\n",
    "else:\n",
    "    print('No It is not present')"
   ]
  },
  {
   "cell_type": "code",
   "execution_count": 9,
   "metadata": {},
   "outputs": [
    {
     "name": "stdout",
     "output_type": "stream",
     "text": [
      "p34yt68hon404\n"
     ]
    }
   ],
   "source": [
    "text = '%p34@y!*-*!t68h#&on404'\n",
    "\n",
    "test_string = ''.join (letter for letter in text if letter.isalnum())\n",
    "\n",
    "print(test_string)"
   ]
  },
  {
   "cell_type": "code",
   "execution_count": 15,
   "metadata": {},
   "outputs": [
    {
     "name": "stdout",
     "output_type": "stream",
     "text": [
      "Length of P is 103\n",
      "Average of P is 0.83\n"
     ]
    }
   ],
   "source": [
    "P = 'this is a paragraph which is written just for the purpose of providing content to let the average word length be calculated.'\n",
    "\n",
    "length = len(P.replace(' ',''))\n",
    "\n",
    "Average = round ( (length)  * 1.0 / len(P) , 2)\n",
    "\n",
    "\n",
    "print( f'Length of P is {length}')\n",
    "print (f'Average of P is {Average}')"
   ]
  },
  {
   "cell_type": "code",
   "execution_count": null,
   "metadata": {},
   "outputs": [],
   "source": []
  }
 ],
 "metadata": {
  "kernelspec": {
   "display_name": "base",
   "language": "python",
   "name": "python3"
  },
  "language_info": {
   "codemirror_mode": {
    "name": "ipython",
    "version": 3
   },
   "file_extension": ".py",
   "mimetype": "text/x-python",
   "name": "python",
   "nbconvert_exporter": "python",
   "pygments_lexer": "ipython3",
   "version": "3.10.8"
  },
  "orig_nbformat": 4,
  "vscode": {
   "interpreter": {
    "hash": "b14076757f31534bf71a7a1238d985fe39fb51a1b6902fe9aa0c842ffbdb42f3"
   }
  }
 },
 "nbformat": 4,
 "nbformat_minor": 2
}
