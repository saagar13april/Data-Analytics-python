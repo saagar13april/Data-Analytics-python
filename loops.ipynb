{
 "cells": [
  {
   "cell_type": "code",
   "execution_count": 11,
   "metadata": {},
   "outputs": [
    {
     "name": "stdout",
     "output_type": "stream",
     "text": [
      "10\n"
     ]
    }
   ],
   "source": [
    "name = 'SAGARKUMAR'\n",
    "print (len(name))"
   ]
  },
  {
   "cell_type": "code",
   "execution_count": 12,
   "metadata": {},
   "outputs": [
    {
     "name": "stdout",
     "output_type": "stream",
     "text": [
      "S\n",
      "A\n",
      "G\n",
      "A\n",
      "R\n",
      "K\n",
      "U\n",
      "M\n",
      "A\n",
      "R\n"
     ]
    }
   ],
   "source": [
    "for char in name:\n",
    "    print (char)"
   ]
  },
  {
   "cell_type": "code",
   "execution_count": 13,
   "metadata": {},
   "outputs": [
    {
     "name": "stdout",
     "output_type": "stream",
     "text": [
      "S\n",
      "G\n",
      "R\n",
      "K\n",
      "M\n",
      "R\n"
     ]
    }
   ],
   "source": [
    "for i in name:\n",
    "    if i not in 'aeiouAEIOU':\n",
    "        print(i)"
   ]
  },
  {
   "cell_type": "code",
   "execution_count": 15,
   "metadata": {},
   "outputs": [
    {
     "name": "stdout",
     "output_type": "stream",
     "text": [
      "red\n",
      "green\n",
      "yellow\n",
      "blue\n"
     ]
    }
   ],
   "source": [
    "colors = ['red' , 'green' , 'yellow' , 'blue']\n",
    "for i in colors:\n",
    "    print(i)"
   ]
  },
  {
   "cell_type": "code",
   "execution_count": 20,
   "metadata": {},
   "outputs": [
    {
     "name": "stdout",
     "output_type": "stream",
     "text": [
      "red\n",
      "3\n",
      "red has 3 chart\n",
      "green\n",
      "5\n",
      "green has 5 chart\n",
      "yellow\n",
      "6\n",
      "yellow has 6 chart\n",
      "blue\n",
      "4\n",
      "blue has 4 chart\n"
     ]
    }
   ],
   "source": [
    "for i in colors:\n",
    "    print(i)\n",
    "    print(len(i))\n",
    "    print(f'{i} has {len(i)} chart' )"
   ]
  },
  {
   "attachments": {},
   "cell_type": "markdown",
   "metadata": {},
   "source": [
    "#  WAP to print of the len of a string is even or odd , from a list of strings\n"
   ]
  },
  {
   "cell_type": "code",
   "execution_count": 1,
   "metadata": {},
   "outputs": [
    {
     "name": "stdout",
     "output_type": "stream",
     "text": [
      "even\n"
     ]
    }
   ],
   "source": [
    "list = ['blue' , 'black' , 'brown' , 'yellow'  ]\n",
    "if len(list)%2==0:\n",
    "    print ('even')\n",
    "else:\n",
    "    print ('odd')"
   ]
  },
  {
   "cell_type": "markdown",
   "metadata": {},
   "source": [
    "'range()' function\n",
    "\n",
    "range (100) - 0 to 99\n",
    "range (10, 50) - 10 to 49\n",
    "range (1,100,5) - 1 to 99 step 5\n",
    "range (100 , 0, -5) - 100 to 1 , step -1\n",
    "range (0 ,100, 2) - \n",
    "range (1 ,100,2) - \n",
    "\n"
   ]
  },
  {
   "attachments": {},
   "cell_type": "markdown",
   "metadata": {},
   "source": [
    "enumerate ()\n",
    "zip()"
   ]
  },
  {
   "cell_type": "code",
   "execution_count": 4,
   "metadata": {},
   "outputs": [
    {
     "name": "stdout",
     "output_type": "stream",
     "text": [
      "rose\n",
      "jasmine\n",
      "lily\n",
      "lotus\n"
     ]
    }
   ],
   "source": [
    "flowers = [ 'rose' , 'jasmine' ,  'lily' , 'lotus' ]\n",
    "for flower in flowers:\n",
    "    print (flower)"
   ]
  },
  {
   "cell_type": "code",
   "execution_count": 12,
   "metadata": {},
   "outputs": [
    {
     "data": {
      "text/plain": [
       "'lily'"
      ]
     },
     "execution_count": 12,
     "metadata": {},
     "output_type": "execute_result"
    }
   ],
   "source": [
    "flowers[2]"
   ]
  },
  {
   "cell_type": "code",
   "execution_count": 9,
   "metadata": {},
   "outputs": [
    {
     "name": "stdout",
     "output_type": "stream",
     "text": [
      "0 rose\n",
      "1 jasmine\n",
      "2 lily\n",
      "3 lotus\n"
     ]
    }
   ],
   "source": [
    "for i,flower in enumerate(flowers):\n",
    "    print (i,flower)"
   ]
  },
  {
   "cell_type": "code",
   "execution_count": 3,
   "metadata": {},
   "outputs": [
    {
     "name": "stdout",
     "output_type": "stream",
     "text": [
      "(1 + 3) **2 = 16\n",
      "(2 + 5) **2 = 49\n",
      "(3 + 6) **2 = 81\n",
      "(4 + 7) **2 = 121\n",
      "(5 + 8) **2 = 169\n",
      "(6 + 10) **2 = 256\n"
     ]
    }
   ],
   "source": [
    "x = [ 1,2,3,4,5,6]\n",
    "y = [3,5,6,7,8,10]\n",
    "\n",
    "# use the formula (x + y)**2 for each pair of values from both list\n",
    "\n",
    "for i , j in zip (x,y):\n",
    "    print (f'({i} + {j}) **2 = {(i+j)**2}')"
   ]
  },
  {
   "attachments": {},
   "cell_type": "markdown",
   "metadata": {},
   "source": [
    "# break and continue"
   ]
  },
  {
   "cell_type": "code",
   "execution_count": 6,
   "metadata": {},
   "outputs": [
    {
     "name": "stdout",
     "output_type": "stream",
     "text": [
      "2\n",
      "3\n",
      "4\n",
      "4\n",
      "6\n",
      "7\n",
      "8\n",
      "5\n",
      "1\n"
     ]
    }
   ],
   "source": [
    "a =[ 2,3,4,0,4,6,0,7,0,0,8,5,1,0,0,0,0]\n",
    "for i in a:\n",
    "    if i == 0: continue\n",
    "    print (i)"
   ]
  },
  {
   "cell_type": "code",
   "execution_count": 8,
   "metadata": {},
   "outputs": [
    {
     "name": "stdout",
     "output_type": "stream",
     "text": [
      "Ram\n",
      "Shyam\n"
     ]
    }
   ],
   "source": [
    "names = [ 'Ram' , 'Shyam' , '' , 'Sita' , 'Laxman']\n",
    "for name in names :\n",
    "    if len(name)==0: break\n",
    "    print (name)\n"
   ]
  },
  {
   "cell_type": "code",
   "execution_count": 11,
   "metadata": {},
   "outputs": [
    {
     "name": "stdout",
     "output_type": "stream",
     "text": [
      "Ram\n",
      "Shyam\n",
      "error:empty space found\n"
     ]
    }
   ],
   "source": [
    "for name in names:\n",
    "    if len(name) == 0 :\n",
    "        print ('error:empty space found')\n",
    "        break\n",
    "    print(name)"
   ]
  },
  {
   "attachments": {},
   "cell_type": "markdown",
   "metadata": {},
   "source": [
    "\n",
    "\n",
    "# by using turtle make a rangoli"
   ]
  },
  {
   "cell_type": "code",
   "execution_count": null,
   "metadata": {},
   "outputs": [],
   "source": []
  }
 ],
 "metadata": {
  "kernelspec": {
   "display_name": "base",
   "language": "python",
   "name": "python3"
  },
  "language_info": {
   "codemirror_mode": {
    "name": "ipython",
    "version": 3
   },
   "file_extension": ".py",
   "mimetype": "text/x-python",
   "name": "python",
   "nbconvert_exporter": "python",
   "pygments_lexer": "ipython3",
   "version": "3.10.8"
  },
  "orig_nbformat": 4,
  "vscode": {
   "interpreter": {
    "hash": "b14076757f31534bf71a7a1238d985fe39fb51a1b6902fe9aa0c842ffbdb42f3"
   }
  }
 },
 "nbformat": 4,
 "nbformat_minor": 2
}
