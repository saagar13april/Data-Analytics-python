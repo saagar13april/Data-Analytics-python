{
 "cells": [
  {
   "attachments": {},
   "cell_type": "markdown",
   "metadata": {},
   "source": [
    "Libraries\n",
    "\n",
    "- third party libraries - 1. numpy\n",
    "                        2. pandas   \n",
    "                        3. seaborn\n",
    "\n",
    "\n",
    "- Prebuit - 1. random\n",
    "        2. os\n",
    "        3. math\n",
    "        "
   ]
  },
  {
   "attachments": {},
   "cell_type": "markdown",
   "metadata": {},
   "source": [
    "# libraries or module\n",
    "- 'import lib_name'\n",
    "- 'import lib_name as alias'\n",
    "   -  '''import random as rd'''\n",
    "\n",
    "- 'from lib_name import fun1 , fun2 , ...\n",
    "\n",
    "   - '''from random randint , choice\n",
    "\n",
    "-'from lib_name import *\n",
    "    from random import *"
   ]
  },
  {
   "cell_type": "code",
   "execution_count": 1,
   "metadata": {},
   "outputs": [],
   "source": [
    "import math"
   ]
  },
  {
   "cell_type": "code",
   "execution_count": 5,
   "metadata": {},
   "outputs": [
    {
     "name": "stdout",
     "output_type": "stream",
     "text": [
      "3.605551275463989\n",
      "120\n",
      "2.0\n",
      "6.643856189774725\n",
      "0.8775825618903728\n",
      "3.141592653589793\n",
      "2.718281828459045\n",
      "6\n",
      "72\n"
     ]
    }
   ],
   "source": [
    "print (math.sqrt(13))\n",
    "print (math.factorial(5))\n",
    "print(math.log(100,10))\n",
    "print(math.log(100,2))\n",
    "print(math.cos(1/2))\n",
    "print(math.pi)\n",
    "print(math.e)\n",
    "print(math.gcd(12,18,24))\n",
    "print (math.lcm(12,18,24))"
   ]
  },
  {
   "cell_type": "code",
   "execution_count": 8,
   "metadata": {},
   "outputs": [],
   "source": [
    "from random import random,randint , choice ,shuffle"
   ]
  },
  {
   "cell_type": "code",
   "execution_count": 20,
   "metadata": {},
   "outputs": [
    {
     "name": "stdout",
     "output_type": "stream",
     "text": [
      "get a rondom vaule between 0 and 1: 0.6707253657612063\n",
      "get a random integer between 50and 100: 53\n",
      "select a random item jill\n",
      "suffle a list ['john', 'Jane', 'jill', 'Jack']\n"
     ]
    }
   ],
   "source": [
    "print('get a rondom vaule between 0 and 1:' ,random())\n",
    "print('get a random integer between 50and 100:' ,randint (50,100))\n",
    "print('select a random item' ,choice (['john' , 'jane' , 'jack' , 'jill' ]))\n",
    "names = ['john' ,'Jane' ,'Jack' , 'jill' ,'Jamie']\n",
    "shuffle(names)\n",
    "print('suffle a list' ,names)\n"
   ]
  },
  {
   "cell_type": "code",
   "execution_count": 21,
   "metadata": {},
   "outputs": [],
   "source": [
    "from datetime import datetime as dt"
   ]
  },
  {
   "cell_type": "code",
   "execution_count": 33,
   "metadata": {},
   "outputs": [
    {
     "name": "stdout",
     "output_type": "stream",
     "text": [
      "current time 2023-03-11 10:22:44.008255\n",
      "current time 2023-03-11\n",
      "current time 10:22:44.008255\n",
      "timestamp 1678510364.008255\n",
      "year 2023\n",
      "month 3\n",
      "day 11\n"
     ]
    }
   ],
   "source": [
    "print('current time' , dt.now())\n",
    "print('current time' , dt.now().date())\n",
    "print('current time' , dt.now().time())\n",
    "print('timestamp' , dt.now().timestamp())\n",
    "print('year' ,dt.now().year)\n",
    "print('month' , dt.now().month)\n",
    "print('day' ,dt.now().day)\n"
   ]
  },
  {
   "cell_type": "code",
   "execution_count": 34,
   "metadata": {},
   "outputs": [
    {
     "name": "stdout",
     "output_type": "stream",
     "text": [
      "formatte date 11/03/2023\n"
     ]
    }
   ],
   "source": [
    "date = dt.strftime(dt.now() ,'%d/%m/%Y')\n",
    "print('formatte date' ,date)\n"
   ]
  },
  {
   "cell_type": "code",
   "execution_count": 35,
   "metadata": {},
   "outputs": [],
   "source": [
    "import os"
   ]
  },
  {
   "cell_type": "code",
   "execution_count": 38,
   "metadata": {},
   "outputs": [
    {
     "name": "stdout",
     "output_type": "stream",
     "text": [
      "current folder c:\\Users\\sagar kumar\\Documents\\Data Analytics python\n"
     ]
    }
   ],
   "source": [
    "print ('current folder' ,os.getcwd())  #current working directory "
   ]
  },
  {
   "cell_type": "code",
   "execution_count": 40,
   "metadata": {},
   "outputs": [
    {
     "name": "stdout",
     "output_type": "stream",
     "text": [
      "['.git', 'chasegame.py', 'condition.ipynb', 'dictionary.ipynb', 'func.ipynb', 'func2.ipynb', 'game1.py', 'images', 'level1.ipynb', 'libreries.ipynb', 'listhw.ipynb', 'lists.ipynb', 'loops.ipynb', 'music', 'nested.py', 'shootinggame.py', 'sounds', 'stringhw.ipynb', 'strings.ipynb', 't1.py', 't2.py', 't3.py', 'tuples.ipynb']\n"
     ]
    }
   ],
   "source": [
    "files = os.listdir() #get all files in current folder\n",
    "print(files)"
   ]
  },
  {
   "cell_type": "code",
   "execution_count": 44,
   "metadata": {},
   "outputs": [
    {
     "name": "stdout",
     "output_type": "stream",
     "text": [
      "['Copy of Feb_gst(1)2.pdf', 'Copy of Feb_gst(1)xx.xlsx', 'Custom Office Templates', 'Data Analytics python', 'desktop.ini', 'My Music', 'My Pictures', 'My Videos', 'XuanZhi9']\n",
      "9\n"
     ]
    }
   ],
   "source": [
    "files = os.listdir (r'C:\\users\\Sagar Kumar\\documents')\n",
    "print(files)\n",
    "print(len(files))"
   ]
  },
  {
   "cell_type": "code",
   "execution_count": 49,
   "metadata": {},
   "outputs": [
    {
     "name": "stdout",
     "output_type": "stream",
     "text": [
      "=> C:/users/Sagar Kumar/Videos\n",
      "📁 ['Captures']\n",
      "📝 ['desktop.ini']\n",
      "---------------\n",
      "=> C:/users/Sagar Kumar/Videos\\Captures\n",
      "📁 []\n",
      "📝 ['desktop.ini']\n",
      "---------------\n",
      "total files 2\n"
     ]
    }
   ],
   "source": [
    "total_files = 0\n",
    "for path , folders ,files in os.walk('C:/users/Sagar Kumar/Videos'):\n",
    "    print('=>' ,path)\n",
    "    print('📁' ,folders)\n",
    "    print('📝' , files)\n",
    "    print('-'*15)\n",
    "    total_files += len (files)\n",
    "print('total files' , total_files)"
   ]
  },
  {
   "cell_type": "code",
   "execution_count": 1,
   "metadata": {},
   "outputs": [
    {
     "ename": "NameError",
     "evalue": "name 'os' is not defined",
     "output_type": "error",
     "traceback": [
      "\u001b[1;31m---------------------------------------------------------------------------\u001b[0m",
      "\u001b[1;31mNameError\u001b[0m                                 Traceback (most recent call last)",
      "Cell \u001b[1;32mIn[1], line 2\u001b[0m\n\u001b[0;32m      1\u001b[0m file \u001b[39m=\u001b[39m \u001b[39m\"\u001b[39m\u001b[39mC:/users/Sagar Kumar/SSSKKK\u001b[39m\u001b[39m\"\u001b[39m\n\u001b[1;32m----> 2\u001b[0m \u001b[39mif\u001b[39;00m os\u001b[39m.\u001b[39mpath\u001b[39m.\u001b[39mexists(file):\n\u001b[0;32m      3\u001b[0m     \u001b[39mprint\u001b[39m(\u001b[39m'\u001b[39m\u001b[39mfile exists\u001b[39m\u001b[39m'\u001b[39m)\n\u001b[0;32m      4\u001b[0m     size \u001b[39m=\u001b[39m os\u001b[39m.\u001b[39mpath\u001b[39m.\u001b[39mgetsize(file)\n",
      "\u001b[1;31mNameError\u001b[0m: name 'os' is not defined"
     ]
    }
   ],
   "source": [
    "file = \"C:/users/Sagar Kumar/SSSKKK\"\n",
    "if os.path.exists(file):\n",
    "    print('file exists')\n",
    "    size = os.path.getsize(file)\n",
    "    print('file size' , size ,'bytes')\n",
    "    print('file size' ,size/1024 ,'kb')\n",
    "    print('file size' ,size/(1024*1024) , 'mb')\n",
    "    print('file size' , size/(1024*1024*1024) ,'gb')\n",
    "else:\n",
    "    print('file does not exists')"
   ]
  },
  {
   "cell_type": "code",
   "execution_count": null,
   "metadata": {},
   "outputs": [],
   "source": []
  }
 ],
 "metadata": {
  "kernelspec": {
   "display_name": "base",
   "language": "python",
   "name": "python3"
  },
  "language_info": {
   "codemirror_mode": {
    "name": "ipython",
    "version": 3
   },
   "file_extension": ".py",
   "mimetype": "text/x-python",
   "name": "python",
   "nbconvert_exporter": "python",
   "pygments_lexer": "ipython3",
   "version": "3.10.8"
  },
  "orig_nbformat": 4,
  "vscode": {
   "interpreter": {
    "hash": "b14076757f31534bf71a7a1238d985fe39fb51a1b6902fe9aa0c842ffbdb42f3"
   }
  }
 },
 "nbformat": 4,
 "nbformat_minor": 2
}
