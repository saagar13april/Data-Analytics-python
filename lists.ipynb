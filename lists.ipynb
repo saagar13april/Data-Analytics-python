{
 "cells": [
  {
   "attachments": {},
   "cell_type": "markdown",
   "metadata": {},
   "source": [
    "data structure  ---- >\n",
    "\n",
    "### list (imp)\n",
    "### dict  (imp)\n",
    "### tuple\n",
    "### set"
   ]
  },
  {
   "attachments": {},
   "cell_type": "markdown",
   "metadata": {},
   "source": [
    "# list (Rules)\n",
    "\n",
    "- ordered\n",
    "- mutable\n",
    "- indexed\n",
    "    * positive indexing\n",
    "    * negative indexing\n",
    "\n",
    "- hetrogenous\n",
    "- using only [ ] bracket like [ v1 , v2 , v3]\n",
    "\n",
    "- list (iterable)\n",
    "\n",
    "\n",
    "q.1 what u need to learn ?\n",
    "- create \n",
    "- indexing \n",
    "- methods (11)\n",
    "\n"
   ]
  },
  {
   "cell_type": "code",
   "execution_count": 5,
   "metadata": {},
   "outputs": [],
   "source": [
    "a = []  # empty list\n",
    "\n",
    "b = [1,2,3,4,5,55,96]  #list of integers\n",
    "\n",
    "c= ['apple' , ' banana' , 'grapes ']  #list of fruits\n",
    "\n",
    "d= [ [1,2,6] , [5,6,8], [7,8,9] ]  #list of lists (nested first)\n",
    "\n",
    "e = ['apple' , 20 , False , 'mango' , 3.12 , True]"
   ]
  },
  {
   "cell_type": "code",
   "execution_count": 6,
   "metadata": {},
   "outputs": [
    {
     "name": "stdout",
     "output_type": "stream",
     "text": [
      "['t', 'h', 'e', 'l', 'o', 's', 't', 'm', 'e', 't', 'a', 'l']\n"
     ]
    }
   ],
   "source": [
    "word = 'thelostmetal'\n",
    "chars = list(word)\n",
    "print(chars)"
   ]
  },
  {
   "cell_type": "code",
   "execution_count": 7,
   "metadata": {},
   "outputs": [
    {
     "name": "stdout",
     "output_type": "stream",
     "text": [
      "[1, 2, 3, 1, 2, 3, 1, 2, 3]\n"
     ]
    }
   ],
   "source": [
    "f=[1,2,3] * 3 # repeat list 5 times\n",
    "\n",
    "print(f)"
   ]
  },
  {
   "cell_type": "code",
   "execution_count": 8,
   "metadata": {},
   "outputs": [
    {
     "name": "stdout",
     "output_type": "stream",
     "text": [
      "sk\n"
     ]
    }
   ],
   "source": [
    "name = input ('enter a name:')\n",
    "a.append(name)\n",
    "print(name)"
   ]
  },
  {
   "cell_type": "code",
   "execution_count": 3,
   "metadata": {},
   "outputs": [
    {
     "data": {
      "text/plain": [
       "15"
      ]
     },
     "execution_count": 3,
     "metadata": {},
     "output_type": "execute_result"
    }
   ],
   "source": [
    "movies = [ 'spiderman' , 'tere naam' , 'diwar' \n",
    "          , 'pushpa' , 'batman' , 'sandman' \n",
    "          , 'RRR' , 'bahubhali' , 'hitman' \n",
    "          , 'kuch kuch hota hai', 'harrypotter' , \n",
    "          'kgf', 'veerzara', \n",
    "          'kaho na pyaar hai', \n",
    "          'vivah'\n",
    "        ]\n",
    "len(movies)"
   ]
  },
  {
   "cell_type": "code",
   "execution_count": 10,
   "metadata": {},
   "outputs": [
    {
     "name": "stdout",
     "output_type": "stream",
     "text": [
      "batman\n",
      "kaho na pyaar hai\n"
     ]
    }
   ],
   "source": [
    "print(movies[4])\n",
    "print(movies[-2])"
   ]
  },
  {
   "cell_type": "code",
   "execution_count": 11,
   "metadata": {},
   "outputs": [],
   "source": [
    "movies [2] = 'Jannat'"
   ]
  },
  {
   "cell_type": "code",
   "execution_count": null,
   "metadata": {},
   "outputs": [
    {
     "name": "stdout",
     "output_type": "stream",
     "text": [
      "['spiderman', 'tere naam', 'Jannat', 'pushpa', 'batman', 'sandman', 'RRR', 'bahubhali', 'hitman', 'kuch kuch hota hai', 'harrypotter', 'kgf', 'veerzara', 'kaho na pyaar hai', 'vivah']\n"
     ]
    }
   ],
   "source": [
    "print(movies)"
   ]
  },
  {
   "cell_type": "code",
   "execution_count": 13,
   "metadata": {},
   "outputs": [
    {
     "name": "stdout",
     "output_type": "stream",
     "text": [
      "['spiderman', 'tere naam', 'Jannat', 'pushpa', 'batman']\n",
      "['vivah', 'kgf', 'hitman', 'sandman', 'Jannat']\n",
      "['pushpa', 'batman', 'sandman', 'RRR', 'bahubhali', 'hitman', 'kuch kuch hota hai', 'harrypotter', 'kgf']\n",
      "['vivah', 'kaho na pyaar hai', 'veerzara', 'kgf', 'harrypotter', 'kuch kuch hota hai', 'hitman', 'bahubhali', 'RRR', 'sandman', 'batman', 'pushpa', 'Jannat', 'tere naam', 'spiderman']\n",
      "['spiderman', 'Jannat', 'batman', 'RRR', 'hitman', 'harrypotter', 'veerzara', 'vivah']\n",
      "['spiderman', 'pushpa', 'RRR', 'kuch kuch hota hai', 'veerzara']\n"
     ]
    }
   ],
   "source": [
    "#  First 5 movies \n",
    "print(movies[0:5]) \n",
    "#  last 5 movies\n",
    "print(movies[::-3])\n",
    "#  all movies except first 3 and last 3\n",
    "print(movies[3:-3])\n",
    "#  all movies but in reverse order\n",
    "print(movies[::-1])\n",
    "#  all movies list occupy even place\n",
    "print(movies[::2])\n",
    "# all movies list occuppy odd places\n",
    "print(movies[::3])"
   ]
  },
  {
   "cell_type": "code",
   "execution_count": 14,
   "metadata": {},
   "outputs": [
    {
     "data": {
      "text/plain": [
       "10"
      ]
     },
     "execution_count": 14,
     "metadata": {},
     "output_type": "execute_result"
    }
   ],
   "source": [
    "subjects = ['maths' , 'science' , 'gk' , \n",
    "            'social science' , 'geography' , 'history' , \n",
    "            'english' , 'hindi' , 'drawing' , 'sports'\n",
    "            ]\n",
    "\n",
    "len(subjects)"
   ]
  },
  {
   "cell_type": "code",
   "execution_count": 16,
   "metadata": {},
   "outputs": [
    {
     "name": "stdout",
     "output_type": "stream",
     "text": [
      "['maths', 'science', 'gk', 'social science', 'geography']\n",
      "['history', 'english', 'hindi', 'drawing', 'sports']\n",
      "['maths', 'gk', 'geography', 'english', 'drawing']\n",
      "['maths', 'social science', 'english', 'sports']\n",
      "['sports', 'drawing', 'hindi', 'english', 'history', 'geography', 'social science', 'gk', 'science', 'maths']\n",
      "history\n",
      "maths\n",
      "sports\n",
      "science\n"
     ]
    }
   ],
   "source": [
    "print(subjects[0:5])\n",
    "print(subjects[-5:])\n",
    "print(subjects[::2])\n",
    "print(subjects[::3])\n",
    "print(subjects[::-1])\n",
    "\n",
    "\n",
    "print(subjects[5])\n",
    "print(subjects[0])\n",
    "print(subjects[-1])\n",
    "print(subjects[-9])\n"
   ]
  },
  {
   "cell_type": "code",
   "execution_count": 4,
   "metadata": {},
   "outputs": [
    {
     "data": {
      "text/plain": [
       "['spiderman',\n",
       " 'tere naam',\n",
       " 'diwar',\n",
       " 'pushpa',\n",
       " 'batman',\n",
       " 'sandman',\n",
       " 'RRR',\n",
       " 'bahubhali',\n",
       " 'hitman',\n",
       " 'kuch kuch hota hai',\n",
       " 'harrypotter',\n",
       " 'kgf',\n",
       " 'veerzara',\n",
       " 'kaho na pyaar hai',\n",
       " 'vivah']"
      ]
     },
     "execution_count": 4,
     "metadata": {},
     "output_type": "execute_result"
    }
   ],
   "source": [
    "movies"
   ]
  },
  {
   "cell_type": "code",
   "execution_count": null,
   "metadata": {},
   "outputs": [],
   "source": [
    "movies[5,]"
   ]
  },
  {
   "cell_type": "code",
   "execution_count": null,
   "metadata": {},
   "outputs": [],
   "source": []
  },
  {
   "cell_type": "code",
   "execution_count": null,
   "metadata": {},
   "outputs": [],
   "source": []
  },
  {
   "cell_type": "code",
   "execution_count": 5,
   "metadata": {},
   "outputs": [
    {
     "data": {
      "text/plain": [
       "'pushpa'"
      ]
     },
     "execution_count": 5,
     "metadata": {},
     "output_type": "execute_result"
    }
   ],
   "source": [
    "movies.pop(3)"
   ]
  },
  {
   "cell_type": "code",
   "execution_count": 7,
   "metadata": {},
   "outputs": [
    {
     "name": "stdout",
     "output_type": "stream",
     "text": [
      "bahubhali\n"
     ]
    }
   ],
   "source": [
    "movie_removed = movies.pop(5)\n",
    "print(movie_removed)"
   ]
  },
  {
   "cell_type": "code",
   "execution_count": 10,
   "metadata": {},
   "outputs": [],
   "source": [
    "x = [1,2,3]\n",
    "y = [4,5,6]"
   ]
  },
  {
   "cell_type": "code",
   "execution_count": 11,
   "metadata": {},
   "outputs": [
    {
     "data": {
      "text/plain": [
       "[1, 2, 3, 4, 5, 6]"
      ]
     },
     "execution_count": 11,
     "metadata": {},
     "output_type": "execute_result"
    }
   ],
   "source": [
    "x+y"
   ]
  },
  {
   "cell_type": "code",
   "execution_count": 12,
   "metadata": {},
   "outputs": [
    {
     "name": "stdout",
     "output_type": "stream",
     "text": [
      "[1, 2, 3, 4, 5, 6]\n"
     ]
    }
   ],
   "source": [
    "x.extend(y)\n",
    "print(x)"
   ]
  },
  {
   "cell_type": "code",
   "execution_count": 13,
   "metadata": {},
   "outputs": [
    {
     "name": "stdout",
     "output_type": "stream",
     "text": [
      "['vivah', 'kaho na pyaar hai', 'veerzara', 'kgf', 'hitman', 'sandman', 'diwar', 'tere naam', 'spiderman']\n"
     ]
    }
   ],
   "source": [
    "movies.reverse()\n",
    "print(movies)"
   ]
  },
  {
   "cell_type": "code",
   "execution_count": 14,
   "metadata": {},
   "outputs": [
    {
     "name": "stdout",
     "output_type": "stream",
     "text": [
      "['diwar', 'hitman', 'kaho na pyaar hai', 'kgf', 'sandman', 'spiderman', 'tere naam', 'veerzara', 'vivah']\n"
     ]
    }
   ],
   "source": [
    "movies.sort()\n",
    "print(movies)"
   ]
  },
  {
   "cell_type": "code",
   "execution_count": 15,
   "metadata": {},
   "outputs": [
    {
     "name": "stdout",
     "output_type": "stream",
     "text": [
      "['vivah', 'veerzara', 'tere naam', 'spiderman', 'sandman', 'kgf', 'kaho na pyaar hai', 'hitman', 'diwar']\n"
     ]
    }
   ],
   "source": [
    "movies.sort(reverse=True)\n",
    "print(movies)"
   ]
  },
  {
   "cell_type": "code",
   "execution_count": 17,
   "metadata": {},
   "outputs": [
    {
     "data": {
      "text/plain": [
       "0"
      ]
     },
     "execution_count": 17,
     "metadata": {},
     "output_type": "execute_result"
    }
   ],
   "source": [
    "movies.count('tere bin')"
   ]
  },
  {
   "cell_type": "code",
   "execution_count": 3,
   "metadata": {},
   "outputs": [
    {
     "name": "stdout",
     "output_type": "stream",
     "text": [
      "2\n",
      "2\n",
      "3\n"
     ]
    }
   ],
   "source": [
    "x = [1,2,2,3,1,3,2]\n",
    "print(x.count(1))\n",
    "print(x.count(3))\n",
    "print(x.count(2))"
   ]
  },
  {
   "cell_type": "code",
   "execution_count": 4,
   "metadata": {},
   "outputs": [
    {
     "name": "stdout",
     "output_type": "stream",
     "text": [
      "[1, 2, 2, 3, 1, 3, 2]\n"
     ]
    }
   ],
   "source": [
    "z = x.copy()\n",
    "print(z)"
   ]
  },
  {
   "cell_type": "code",
   "execution_count": 5,
   "metadata": {},
   "outputs": [
    {
     "name": "stdout",
     "output_type": "stream",
     "text": [
      "[1, 2, 2, 3, 1, 3, 2]\n"
     ]
    }
   ],
   "source": [
    "y = z\n",
    "print (y)"
   ]
  },
  {
   "cell_type": "code",
   "execution_count": null,
   "metadata": {},
   "outputs": [],
   "source": [
    "a = 10\n",
    "\n",
    "\n"
   ]
  }
 ],
 "metadata": {
  "kernelspec": {
   "display_name": "base",
   "language": "python",
   "name": "python3"
  },
  "language_info": {
   "codemirror_mode": {
    "name": "ipython",
    "version": 3
   },
   "file_extension": ".py",
   "mimetype": "text/x-python",
   "name": "python",
   "nbconvert_exporter": "python",
   "pygments_lexer": "ipython3",
   "version": "3.10.8"
  },
  "orig_nbformat": 4,
  "vscode": {
   "interpreter": {
    "hash": "b14076757f31534bf71a7a1238d985fe39fb51a1b6902fe9aa0c842ffbdb42f3"
   }
  }
 },
 "nbformat": 4,
 "nbformat_minor": 2
}
