{
 "cells": [
  {
   "attachments": {},
   "cell_type": "markdown",
   "metadata": {},
   "source": [
    "data structure  ---- >\n",
    "\n",
    "### list (imp)\n",
    "### dict  (imp)\n",
    "### tuple\n",
    "### set"
   ]
  },
  {
   "attachments": {},
   "cell_type": "markdown",
   "metadata": {},
   "source": [
    "# list (Rules)\n",
    "\n",
    "- ordered\n",
    "- mutable\n",
    "- indexed\n",
    "    * positive indexing\n",
    "    * negative indexing\n",
    "\n",
    "- hetrogenous\n",
    "- using only [ ] bracket like [ v1 , v2 , v3]\n",
    "\n",
    "- list (iterable)\n",
    "\n",
    "\n",
    "q.1 what u need to learn ?\n",
    "- create \n",
    "- indexing \n",
    "- methods (11)\n",
    "\n"
   ]
  },
  {
   "cell_type": "code",
   "execution_count": 4,
   "metadata": {},
   "outputs": [],
   "source": [
    "a = []  # empty list\n",
    "\n",
    "b = [1,2,3,4,5,55,96]  #list of integers\n",
    "\n",
    "c= ['apple' , ' banana' , 'grapes ']  #list of fruits\n",
    "\n",
    "d= [ [1,2,6] , [5,6,8], [7,8,9] ]  #list of lists (nedted first)\n",
    "\n",
    "e = ['apple' , 20 , False , 'mango' , 3.12 , True]"
   ]
  },
  {
   "cell_type": "code",
   "execution_count": 5,
   "metadata": {},
   "outputs": [
    {
     "name": "stdout",
     "output_type": "stream",
     "text": [
      "['t', 'h', 'e', 'l', 'o', 's', 't', 'm', 'e', 't', 'a', 'l']\n"
     ]
    }
   ],
   "source": [
    "word = 'thelostmetal'\n",
    "chars = list(word)\n",
    "print(chars)"
   ]
  },
  {
   "cell_type": "code",
   "execution_count": 6,
   "metadata": {},
   "outputs": [
    {
     "name": "stdout",
     "output_type": "stream",
     "text": [
      "[1, 2, 3, 1, 2, 3, 1, 2, 3]\n"
     ]
    }
   ],
   "source": [
    "f=[1,2,3] * 3 # repeat list 5 times\n",
    "\n",
    "print(f)"
   ]
  },
  {
   "cell_type": "code",
   "execution_count": 10,
   "metadata": {},
   "outputs": [
    {
     "name": "stdout",
     "output_type": "stream",
     "text": [
      "sagar\n"
     ]
    }
   ],
   "source": [
    "name = input ('enter a name:')\n",
    "a.append(name)\n",
    "print(name)"
   ]
  },
  {
   "cell_type": "code",
   "execution_count": 21,
   "metadata": {},
   "outputs": [
    {
     "data": {
      "text/plain": [
       "15"
      ]
     },
     "execution_count": 21,
     "metadata": {},
     "output_type": "execute_result"
    }
   ],
   "source": [
    "movies = [ 'spiderman' , 'tere naam' , 'diwar' \n",
    "          , 'pushpa' , 'batman' , 'sandman' \n",
    "          , 'RRR' , 'bahubhali' , 'hitman' \n",
    "          , 'moonknight', 'harrypotter' , \n",
    "          'kgf', 'veerzara', \n",
    "          'kaho na pyaar hai', \n",
    "          'last of us'\n",
    "        ]\n",
    "len(movies)"
   ]
  },
  {
   "cell_type": "code",
   "execution_count": 22,
   "metadata": {},
   "outputs": [
    {
     "name": "stdout",
     "output_type": "stream",
     "text": [
      "batman\n",
      "kaho na pyaar hai\n"
     ]
    }
   ],
   "source": [
    "print(movies[4])\n",
    "print(movies[-2])"
   ]
  },
  {
   "cell_type": "code",
   "execution_count": 27,
   "metadata": {},
   "outputs": [],
   "source": [
    "movies [2] = 'Jannat'"
   ]
  },
  {
   "cell_type": "code",
   "execution_count": 29,
   "metadata": {},
   "outputs": [
    {
     "name": "stdout",
     "output_type": "stream",
     "text": [
      "['spiderman', 'tere naam', 'Jannat', 'pushpa', 'batman', 'sandman', 'RRR', 'bahubhali', 'hitman', 'moonknight', 'harrypotter', 'kgf', 'veerzara', 'kaho na pyaar hai', 'last of us']\n"
     ]
    }
   ],
   "source": [
    "print(movies)"
   ]
  },
  {
   "cell_type": "code",
   "execution_count": 34,
   "metadata": {},
   "outputs": [
    {
     "name": "stdout",
     "output_type": "stream",
     "text": [
      "['spiderman', 'tere naam', 'Jannat', 'pushpa', 'batman']\n",
      "[]\n"
     ]
    }
   ],
   "source": [
    "#  First 5 movies \n",
    "#  last 5 movies \n",
    "#  all movies except first 3 and last 3\n",
    "#  all movies but in reverse order\n",
    "\n",
    "\n",
    "print(movies[0:5])\n"
   ]
  },
  {
   "cell_type": "code",
   "execution_count": 39,
   "metadata": {},
   "outputs": [
    {
     "data": {
      "text/plain": [
       "['last of us', 'moonknight', 'batman']"
      ]
     },
     "execution_count": 39,
     "metadata": {},
     "output_type": "execute_result"
    }
   ],
   "source": [
    "movies[::-5]"
   ]
  },
  {
   "cell_type": "code",
   "execution_count": 40,
   "metadata": {},
   "outputs": [
    {
     "data": {
      "text/plain": [
       "['Jannat',\n",
       " 'pushpa',\n",
       " 'batman',\n",
       " 'sandman',\n",
       " 'RRR',\n",
       " 'bahubhali',\n",
       " 'hitman',\n",
       " 'moonknight',\n",
       " 'harrypotter',\n",
       " 'kgf']"
      ]
     },
     "execution_count": 40,
     "metadata": {},
     "output_type": "execute_result"
    }
   ],
   "source": [
    "movies[2:-3]"
   ]
  },
  {
   "cell_type": "code",
   "execution_count": 41,
   "metadata": {},
   "outputs": [
    {
     "data": {
      "text/plain": [
       "['last of us',\n",
       " 'kaho na pyaar hai',\n",
       " 'veerzara',\n",
       " 'kgf',\n",
       " 'harrypotter',\n",
       " 'moonknight',\n",
       " 'hitman',\n",
       " 'bahubhali',\n",
       " 'RRR',\n",
       " 'sandman',\n",
       " 'batman',\n",
       " 'pushpa',\n",
       " 'Jannat',\n",
       " 'tere naam',\n",
       " 'spiderman']"
      ]
     },
     "execution_count": 41,
     "metadata": {},
     "output_type": "execute_result"
    }
   ],
   "source": [
    "movies[::-1]"
   ]
  },
  {
   "cell_type": "code",
   "execution_count": 42,
   "metadata": {},
   "outputs": [
    {
     "data": {
      "text/plain": [
       "['spiderman',\n",
       " 'Jannat',\n",
       " 'batman',\n",
       " 'RRR',\n",
       " 'hitman',\n",
       " 'harrypotter',\n",
       " 'veerzara',\n",
       " 'last of us']"
      ]
     },
     "execution_count": 42,
     "metadata": {},
     "output_type": "execute_result"
    }
   ],
   "source": [
    "movies[::2]"
   ]
  },
  {
   "cell_type": "code",
   "execution_count": 43,
   "metadata": {},
   "outputs": [
    {
     "data": {
      "text/plain": [
       "['spiderman', 'pushpa', 'RRR', 'moonknight', 'veerzara']"
      ]
     },
     "execution_count": 43,
     "metadata": {},
     "output_type": "execute_result"
    }
   ],
   "source": [
    "movies[::3]"
   ]
  },
  {
   "cell_type": "code",
   "execution_count": null,
   "metadata": {},
   "outputs": [],
   "source": []
  }
 ],
 "metadata": {
  "kernelspec": {
   "display_name": "base",
   "language": "python",
   "name": "python3"
  },
  "language_info": {
   "codemirror_mode": {
    "name": "ipython",
    "version": 3
   },
   "file_extension": ".py",
   "mimetype": "text/x-python",
   "name": "python",
   "nbconvert_exporter": "python",
   "pygments_lexer": "ipython3",
   "version": "3.10.8"
  },
  "orig_nbformat": 4,
  "vscode": {
   "interpreter": {
    "hash": "b14076757f31534bf71a7a1238d985fe39fb51a1b6902fe9aa0c842ffbdb42f3"
   }
  }
 },
 "nbformat": 4,
 "nbformat_minor": 2
}
