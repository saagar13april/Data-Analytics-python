{
 "cells": [
  {
   "attachments": {},
   "cell_type": "markdown",
   "metadata": {},
   "source": [
    "syntax \n",
    "...python\n",
    "\n",
    "def fun_name(<params...):\n",
    "    statment 1\n",
    "    statment 2 \n",
    "    ...\n",
    "    statment n\n",
    "    <retur , values.....>"
   ]
  },
  {
   "attachments": {},
   "cell_type": "markdown",
   "metadata": {},
   "source": [
    " non parameterized non returning function\n",
    " "
   ]
  },
  {
   "cell_type": "code",
   "execution_count": 21,
   "metadata": {},
   "outputs": [],
   "source": [
    "#  defining a funcion\n",
    "def greeting():\n",
    "    print('good morning')\n",
    "    print ('How are you')\n",
    "    print ('Good')\n",
    "    print ('ok')"
   ]
  },
  {
   "cell_type": "code",
   "execution_count": 22,
   "metadata": {},
   "outputs": [
    {
     "name": "stdout",
     "output_type": "stream",
     "text": [
      "good morning\n",
      "How are you\n",
      "Good\n",
      "ok\n"
     ]
    }
   ],
   "source": [
    "#  call / use \n",
    "greeting()"
   ]
  },
  {
   "cell_type": "code",
   "execution_count": 19,
   "metadata": {},
   "outputs": [
    {
     "data": {
      "text/plain": [
       "5"
      ]
     },
     "execution_count": 19,
     "metadata": {},
     "output_type": "execute_result"
    }
   ],
   "source": [
    "len('hello')"
   ]
  },
  {
   "cell_type": "code",
   "execution_count": 23,
   "metadata": {},
   "outputs": [
    {
     "name": "stdout",
     "output_type": "stream",
     "text": [
      "good morning\n",
      "How are you\n",
      "Good\n",
      "ok\n",
      "None\n"
     ]
    }
   ],
   "source": [
    "a= greeting()\n",
    "print(a)"
   ]
  },
  {
   "attachments": {},
   "cell_type": "markdown",
   "metadata": {},
   "source": [
    "function returning a value"
   ]
  },
  {
   "cell_type": "code",
   "execution_count": 5,
   "metadata": {},
   "outputs": [],
   "source": [
    "def random5():\n",
    "    from random import choices\n",
    "    x = list ('😍😊😂🤷‍♀️💖🤳😎👀✨🧨🧶👕👓🎏🎞🎨⛑🎩🥇🥈🥉🏅🎖🧡💛💚💙🤎💖💝')\n",
    "    return \" \" .join (choices (x , k=5))"
   ]
  },
  {
   "cell_type": "code",
   "execution_count": 15,
   "metadata": {},
   "outputs": [
    {
     "name": "stdout",
     "output_type": "stream",
     "text": [
      "👕 🥇 🧶 😂 💚\n"
     ]
    }
   ],
   "source": [
    "ans = random5()\n",
    "print(ans)"
   ]
  },
  {
   "cell_type": "code",
   "execution_count": 21,
   "metadata": {},
   "outputs": [
    {
     "name": "stdout",
     "output_type": "stream",
     "text": [
      "=>  🎏 😎 💝 ⛑ ‍\n",
      "=>  🎨 💝 🎨 😎 🎏\n",
      "=>  🧡 😎 ‍ 🧨 🤳\n",
      "=>  💖 🤳 🏅 ⛑ 😎\n",
      "=>  🧶 🧨 💛 🥉 💚\n"
     ]
    }
   ],
   "source": [
    "for i in range(5):\n",
    "    print(f'=>  {random5()}')"
   ]
  },
  {
   "cell_type": "code",
   "execution_count": 27,
   "metadata": {},
   "outputs": [],
   "source": [
    "def si(p ,r ,t):\n",
    "    '''function to calculate simple interest'''\n",
    "    ans = p * r *t /100\n",
    "    print(f'si -> {ans}')\n",
    "\n",
    "def ci(p ,r,t):\n",
    "    '''function to calculate compound interest'''\n",
    "    ans = p*(1+r/100)**t\n",
    "    print(f'ci -> {ans}')"
   ]
  },
  {
   "cell_type": "code",
   "execution_count": 28,
   "metadata": {},
   "outputs": [
    {
     "name": "stdout",
     "output_type": "stream",
     "text": [
      "si -> 2400.0\n",
      "si -> 3450.0\n",
      "ci -> 16411.572000000004\n"
     ]
    }
   ],
   "source": [
    "si(12000,2,10)\n",
    "si (10000,11.5,3)\n",
    "ci(12000,11,3)"
   ]
  },
  {
   "cell_type": "code",
   "execution_count": 18,
   "metadata": {},
   "outputs": [],
   "source": [
    "def si(p ,r ,t):\n",
    "     return p * r *t /100\n",
    "\n"
   ]
  },
  {
   "cell_type": "code",
   "execution_count": 19,
   "metadata": {},
   "outputs": [
    {
     "data": {
      "text/plain": [
       "150.0"
      ]
     },
     "execution_count": 19,
     "metadata": {},
     "output_type": "execute_result"
    }
   ],
   "source": [
    "si (1000,5,3) "
   ]
  },
  {
   "cell_type": "code",
   "execution_count": 20,
   "metadata": {},
   "outputs": [
    {
     "data": {
      "text/plain": [
       "1150.0"
      ]
     },
     "execution_count": 20,
     "metadata": {},
     "output_type": "execute_result"
    }
   ],
   "source": [
    "si(1000,5,3) + 1000"
   ]
  },
  {
   "cell_type": "code",
   "execution_count": 21,
   "metadata": {},
   "outputs": [],
   "source": [
    "def ci(p ,r,t):\n",
    "    return p*(1+r/100)**t\n"
   ]
  },
  {
   "cell_type": "code",
   "execution_count": 25,
   "metadata": {},
   "outputs": [
    {
     "data": {
      "text/plain": [
       "1020.0"
      ]
     },
     "execution_count": 25,
     "metadata": {},
     "output_type": "execute_result"
    }
   ],
   "source": [
    "ci (1000, 2 , 1)"
   ]
  },
  {
   "cell_type": "code",
   "execution_count": null,
   "metadata": {},
   "outputs": [],
   "source": []
  }
 ],
 "metadata": {
  "kernelspec": {
   "display_name": "base",
   "language": "python",
   "name": "python3"
  },
  "language_info": {
   "codemirror_mode": {
    "name": "ipython",
    "version": 3
   },
   "file_extension": ".py",
   "mimetype": "text/x-python",
   "name": "python",
   "nbconvert_exporter": "python",
   "pygments_lexer": "ipython3",
   "version": "3.10.8"
  },
  "orig_nbformat": 4,
  "vscode": {
   "interpreter": {
    "hash": "b14076757f31534bf71a7a1238d985fe39fb51a1b6902fe9aa0c842ffbdb42f3"
   }
  }
 },
 "nbformat": 4,
 "nbformat_minor": 2
}
