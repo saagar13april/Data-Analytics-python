{
 "cells": [
  {
   "attachments": {},
   "cell_type": "markdown",
   "metadata": {},
   "source": [
    "Dict \n",
    "\n",
    "- ordered and structure\n",
    "- unindenxed , mutable \n",
    "- key : value pair\n",
    "- key is immutable , unique\n",
    "- value is mutable and can be duplicated and heterogenous \n",
    "-  dict can be nested \n",
    "- dict can be created using dict() fuction\n",
    "- dict can be created using { } curly bracs"
   ]
  },
  {
   "cell_type": "code",
   "execution_count": 42,
   "metadata": {},
   "outputs": [
    {
     "name": "stdout",
     "output_type": "stream",
     "text": [
      "['Brandon Sanderson', 'The Lost Metal', '7', 'Fantacy', '2023', '19.56']\n"
     ]
    }
   ],
   "source": [
    "details = [ 'Brandon Sanderson' , 'The Lost Metal' , '7' , 'Fantacy' , '2023' , '19.56']\n",
    "print(details)"
   ]
  },
  {
   "cell_type": "code",
   "execution_count": 43,
   "metadata": {},
   "outputs": [],
   "source": [
    "details_dict ={\n",
    "        'Author' : 'Brandon Sanderson',\n",
    "        'Title' : 'The Lost Metal',\n",
    "        'part'  : '7',\n",
    "        'Genre' : 'Fantacy',\n",
    "        'Release Date' : '2022' ,\n",
    "        'price'  : '$19.56'\n",
    "}\n"
   ]
  },
  {
   "cell_type": "code",
   "execution_count": 44,
   "metadata": {},
   "outputs": [
    {
     "name": "stdout",
     "output_type": "stream",
     "text": [
      "{'Author': 'Brandon Sanderson', 'Title': 'The Lost Metal', 'part': '7', 'Genre': 'Fantacy', 'Release Date': '2022', 'price': '$19.56'}\n",
      "<class 'dict'>\n"
     ]
    }
   ],
   "source": [
    "print(details_dict)\n",
    "print(type(details_dict))"
   ]
  },
  {
   "cell_type": "code",
   "execution_count": 34,
   "metadata": {},
   "outputs": [],
   "source": [
    "details_dict['Release Date'] = '15 Nov, 22'"
   ]
  },
  {
   "cell_type": "code",
   "execution_count": 35,
   "metadata": {},
   "outputs": [
    {
     "data": {
      "text/plain": [
       "{'Author': 'Brandon Sanderson',\n",
       " 'Title': 'The Lost Metal',\n",
       " 'part': '7',\n",
       " 'Genre': 'Fantacy',\n",
       " 'Release Date': '15 Nov, 22',\n",
       " 'price': '$19.56',\n",
       " 'Release_dict': '15 Nov, 22',\n",
       " 'Pages': 528}"
      ]
     },
     "execution_count": 35,
     "metadata": {},
     "output_type": "execute_result"
    }
   ],
   "source": [
    "details_dict"
   ]
  },
  {
   "cell_type": "code",
   "execution_count": 29,
   "metadata": {},
   "outputs": [],
   "source": [
    "details_dict ['Pages'] = 528"
   ]
  },
  {
   "cell_type": "code",
   "execution_count": 30,
   "metadata": {},
   "outputs": [
    {
     "data": {
      "text/plain": [
       "{'Author': 'Brandon Sanderson',\n",
       " 'Title': 'The Lost Metal',\n",
       " 'part': '7',\n",
       " 'Genre': 'Fantacy',\n",
       " 'Release Date': '15 Nov, 22',\n",
       " 'price': '$19.56',\n",
       " 'Release_dict': '15 Nov, 22',\n",
       " 'Pages': 528}"
      ]
     },
     "execution_count": 30,
     "metadata": {},
     "output_type": "execute_result"
    }
   ],
   "source": [
    "details_dict"
   ]
  },
  {
   "cell_type": "code",
   "execution_count": 39,
   "metadata": {},
   "outputs": [
    {
     "name": "stdout",
     "output_type": "stream",
     "text": [
      "Author\n",
      "Title\n",
      "part\n",
      "Genre\n",
      "Release Date\n",
      "price\n",
      "Release_dict\n",
      "Pages\n"
     ]
    }
   ],
   "source": [
    "for i in details_dict:\n",
    "    print(i)"
   ]
  },
  {
   "cell_type": "code",
   "execution_count": 38,
   "metadata": {},
   "outputs": [
    {
     "name": "stdout",
     "output_type": "stream",
     "text": [
      "Author               Brandon Sanderson\n",
      "Title                The Lost Metal\n",
      "part                 7\n",
      "Genre                Fantacy\n",
      "Release Date         15 Nov, 22\n",
      "price                $19.56\n",
      "Release_dict         15 Nov, 22\n",
      "Pages                528\n"
     ]
    }
   ],
   "source": [
    "for i,v in details_dict.items():\n",
    "     print(f'{i:20} {v}')"
   ]
  },
  {
   "cell_type": "code",
   "execution_count": 45,
   "metadata": {},
   "outputs": [
    {
     "data": {
      "text/plain": [
       "['Brandon Sanderson', 'The Lost Metal', '7', 'Fantacy', '2022', '$19.56']"
      ]
     },
     "execution_count": 45,
     "metadata": {},
     "output_type": "execute_result"
    }
   ],
   "source": [
    "list(details_dict.values())"
   ]
  },
  {
   "cell_type": "code",
   "execution_count": 46,
   "metadata": {},
   "outputs": [
    {
     "data": {
      "text/plain": [
       "['Author', 'Title', 'part', 'Genre', 'Release Date', 'price']"
      ]
     },
     "execution_count": 46,
     "metadata": {},
     "output_type": "execute_result"
    }
   ],
   "source": [
    "list(details_dict.keys())"
   ]
  },
  {
   "cell_type": "code",
   "execution_count": 53,
   "metadata": {},
   "outputs": [
    {
     "data": {
      "text/plain": [
       "0"
      ]
     },
     "execution_count": 53,
     "metadata": {},
     "output_type": "execute_result"
    }
   ],
   "source": [
    "details_dict.get('Pages', 0)"
   ]
  },
  {
   "cell_type": "code",
   "execution_count": 22,
   "metadata": {},
   "outputs": [],
   "source": [
    "students = ['sagar' , 'shri niwas ' , '25' , 'Gorakhpur' , 'music and sports ' , 'abc school']\n"
   ]
  },
  {
   "cell_type": "code",
   "execution_count": 26,
   "metadata": {},
   "outputs": [],
   "source": [
    "students_dict = {\n",
    "    'name' : 'sagar',\n",
    "    'fathers name ' : 'shri niwas',\n",
    "    'age' : 22,\n",
    "    'location' : 'Gorakhpur' ,\n",
    "    'hobby' : 'music and sports',\n",
    "    'school name' : 'abc school'\n",
    "}"
   ]
  },
  {
   "cell_type": "code",
   "execution_count": 27,
   "metadata": {},
   "outputs": [
    {
     "name": "stdout",
     "output_type": "stream",
     "text": [
      "{'name': 'sagar', 'fathers name ': 'shri niwas', 'age': 22, 'location': 'Gorakhpur', 'hobby': 'music and sports', 'school name': 'abc school'}\n"
     ]
    }
   ],
   "source": [
    "print(students_dict)"
   ]
  },
  {
   "cell_type": "code",
   "execution_count": 28,
   "metadata": {},
   "outputs": [
    {
     "data": {
      "text/plain": [
       "{'name': 'sagar',\n",
       " 'fathers name ': 'shri niwas',\n",
       " 'age': 22,\n",
       " 'location': 'Gorakhpur',\n",
       " 'hobby': 'music and sports',\n",
       " 'school name': 'abc school'}"
      ]
     },
     "execution_count": 28,
     "metadata": {},
     "output_type": "execute_result"
    }
   ],
   "source": [
    "students_dict"
   ]
  },
  {
   "cell_type": "code",
   "execution_count": null,
   "metadata": {},
   "outputs": [],
   "source": []
  }
 ],
 "metadata": {
  "kernelspec": {
   "display_name": "base",
   "language": "python",
   "name": "python3"
  },
  "language_info": {
   "codemirror_mode": {
    "name": "ipython",
    "version": 3
   },
   "file_extension": ".py",
   "mimetype": "text/x-python",
   "name": "python",
   "nbconvert_exporter": "python",
   "pygments_lexer": "ipython3",
   "version": "3.10.8"
  },
  "orig_nbformat": 4,
  "vscode": {
   "interpreter": {
    "hash": "b14076757f31534bf71a7a1238d985fe39fb51a1b6902fe9aa0c842ffbdb42f3"
   }
  }
 },
 "nbformat": 4,
 "nbformat_minor": 2
}
