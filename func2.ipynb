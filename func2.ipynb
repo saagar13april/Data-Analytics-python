{
 "cells": [
  {
   "attachments": {},
   "cell_type": "markdown",
   "metadata": {},
   "source": [
    "Function styles based on parameters \n",
    "\n",
    "1. Required parameters\n",
    "2. Named parameters\n",
    "3. Default parameters\n",
    "4. Variable arguments & keywords arguments"
   ]
  },
  {
   "cell_type": "code",
   "execution_count": 1,
   "metadata": {},
   "outputs": [],
   "source": [
    "# required parameters\n",
    "\n",
    "def mean ( a ,b ,c ,d ,e):\n",
    "    return ( a+b+c+d+e)/5"
   ]
  },
  {
   "cell_type": "code",
   "execution_count": 2,
   "metadata": {},
   "outputs": [
    {
     "name": "stdout",
     "output_type": "stream",
     "text": [
      "3.0\n"
     ]
    }
   ],
   "source": [
    "x = mean(1,2,3,4,5)\n",
    "print(x)"
   ]
  },
  {
   "cell_type": "code",
   "execution_count": 3,
   "metadata": {},
   "outputs": [
    {
     "ename": "TypeError",
     "evalue": "mean() missing 1 required positional argument: 'e'",
     "output_type": "error",
     "traceback": [
      "\u001b[1;31m---------------------------------------------------------------------------\u001b[0m",
      "\u001b[1;31mTypeError\u001b[0m                                 Traceback (most recent call last)",
      "Cell \u001b[1;32mIn[3], line 1\u001b[0m\n\u001b[1;32m----> 1\u001b[0m x \u001b[39m=\u001b[39m mean (\u001b[39m1\u001b[39;49m,\u001b[39m2\u001b[39;49m,\u001b[39m3\u001b[39;49m, \u001b[39m4\u001b[39;49m)\n\u001b[0;32m      2\u001b[0m \u001b[39mprint\u001b[39m(x) \n",
      "\u001b[1;31mTypeError\u001b[0m: mean() missing 1 required positional argument: 'e'"
     ]
    }
   ],
   "source": [
    "x = mean (1,2,3, 4)\n",
    "print(x) "
   ]
  },
  {
   "cell_type": "code",
   "execution_count": 11,
   "metadata": {},
   "outputs": [],
   "source": [
    "# default parameters 9 d and e)\n",
    "\n",
    "def mean( a ,b ,c , d=0 , e =0):      \n",
    "    return (a+b+c+d+e)/5"
   ]
  },
  {
   "cell_type": "code",
   "execution_count": 12,
   "metadata": {},
   "outputs": [
    {
     "name": "stdout",
     "output_type": "stream",
     "text": [
      "13.2\n",
      "22.0\n",
      "22.0\n"
     ]
    }
   ],
   "source": [
    "print(mean(11,22,33))\n",
    "print(mean(11,22,33,44))\n",
    "print(mean(11,22,33,44))\n"
   ]
  },
  {
   "cell_type": "code",
   "execution_count": 14,
   "metadata": {},
   "outputs": [
    {
     "name": "stdout",
     "output_type": "stream",
     "text": [
      "4.822\n",
      "25.0\n",
      "23.8\n"
     ]
    }
   ],
   "source": [
    "x = mean ( b = 10 , a=12 ,c = 2.11)\n",
    "print(x)\n",
    "y = mean (a=5 , b= 10 , c = 10 , e = 100)\n",
    "print (y)\n",
    "z = mean (2 ,3 , 4 , e=100 ,  d=10)\n",
    "print(z)"
   ]
  },
  {
   "cell_type": "code",
   "execution_count": 20,
   "metadata": {},
   "outputs": [],
   "source": [
    "def mean_list(numbers):\n",
    "    return sum(numbers)/len(numbers)\n"
   ]
  },
  {
   "cell_type": "code",
   "execution_count": 21,
   "metadata": {},
   "outputs": [
    {
     "data": {
      "text/plain": [
       "5.428571428571429"
      ]
     },
     "execution_count": 21,
     "metadata": {},
     "output_type": "execute_result"
    }
   ],
   "source": [
    "mean_list([1 ,2 ,3 , 5 ,7 ,9 , 11])"
   ]
  },
  {
   "cell_type": "code",
   "execution_count": 25,
   "metadata": {},
   "outputs": [],
   "source": [
    "def meaner(*nums):\n",
    "    return sum(nums)/len(nums)\n"
   ]
  },
  {
   "cell_type": "code",
   "execution_count": 32,
   "metadata": {},
   "outputs": [
    {
     "data": {
      "text/plain": [
       "5.428571428571429"
      ]
     },
     "execution_count": 32,
     "metadata": {},
     "output_type": "execute_result"
    }
   ],
   "source": [
    "mean_list([1,2,3,5, 7, 9 , 11])"
   ]
  },
  {
   "cell_type": "code",
   "execution_count": 30,
   "metadata": {},
   "outputs": [
    {
     "data": {
      "text/plain": [
       "41.166666666666664"
      ]
     },
     "execution_count": 30,
     "metadata": {},
     "output_type": "execute_result"
    }
   ],
   "source": [
    "meaner( 1,2,5,4,88,7,54,85,100,14,96,38,)"
   ]
  },
  {
   "cell_type": "code",
   "execution_count": 44,
   "metadata": {},
   "outputs": [],
   "source": [
    "def multiplier(*args):\n",
    "    total = 1\n",
    "    for arg in args:\n",
    "        print (f'{total} * {arg}  =  {total*arg}')\n",
    "        total *= arg\n",
    "    return total"
   ]
  },
  {
   "cell_type": "code",
   "execution_count": 45,
   "metadata": {},
   "outputs": [
    {
     "name": "stdout",
     "output_type": "stream",
     "text": [
      "1 * 2  =  2\n",
      "2 * 3  =  6\n",
      "6 * 5  =  30\n",
      "30 * 6  =  180\n",
      "180 * 7  =  1260\n",
      "1260 * 9  =  11340\n",
      "11340 * 10  =  113400\n",
      "113400 * 15  =  1701000\n",
      "1701000 * 100  =  170100000\n"
     ]
    },
    {
     "data": {
      "text/plain": [
       "170100000"
      ]
     },
     "execution_count": 45,
     "metadata": {},
     "output_type": "execute_result"
    }
   ],
   "source": [
    "multiplier(2,3,5,6,7,9,10,15,100)"
   ]
  },
  {
   "cell_type": "code",
   "execution_count": 39,
   "metadata": {},
   "outputs": [],
   "source": [
    "# lambda expression\n",
    "\n",
    "# f(x) = x * 2 + 1\n",
    "#  g(x) = x + y * 3\n",
    "#  f(x) = 10\n",
    "#  g(10,20)"
   ]
  },
  {
   "cell_type": "code",
   "execution_count": 2,
   "metadata": {},
   "outputs": [],
   "source": [
    "f = lambda x : x*2 + 1"
   ]
  },
  {
   "cell_type": "code",
   "execution_count": 4,
   "metadata": {},
   "outputs": [
    {
     "data": {
      "text/plain": [
       "21"
      ]
     },
     "execution_count": 4,
     "metadata": {},
     "output_type": "execute_result"
    }
   ],
   "source": [
    "f(10)"
   ]
  },
  {
   "cell_type": "code",
   "execution_count": null,
   "metadata": {},
   "outputs": [],
   "source": []
  }
 ],
 "metadata": {
  "kernelspec": {
   "display_name": "base",
   "language": "python",
   "name": "python3"
  },
  "language_info": {
   "codemirror_mode": {
    "name": "ipython",
    "version": 3
   },
   "file_extension": ".py",
   "mimetype": "text/x-python",
   "name": "python",
   "nbconvert_exporter": "python",
   "pygments_lexer": "ipython3",
   "version": "3.10.8"
  },
  "orig_nbformat": 4,
  "vscode": {
   "interpreter": {
    "hash": "b14076757f31534bf71a7a1238d985fe39fb51a1b6902fe9aa0c842ffbdb42f3"
   }
  }
 },
 "nbformat": 4,
 "nbformat_minor": 2
}
