{
 "cells": [
  {
   "cell_type": "code",
   "execution_count": 1,
   "metadata": {},
   "outputs": [
    {
     "name": "stdout",
     "output_type": "stream",
     "text": [
      "x is greater\n"
     ]
    }
   ],
   "source": [
    "x = 40\n",
    "y= 30\n",
    "if x > y:\n",
    "    print ('x is greater')\n",
    "else:\n",
    "    print ('y is greater')"
   ]
  },
  {
   "cell_type": "code",
   "execution_count": 5,
   "metadata": {},
   "outputs": [
    {
     "name": "stdout",
     "output_type": "stream",
     "text": [
      " you are going to run this part\n"
     ]
    }
   ],
   "source": [
    "count = int (input ('enter a value'))\n",
    "if count > 5:\n",
    "    print (' you are going to run this part')\n",
    "if count > 15 :\n",
    "    print ('you are going to see this part also')\n",
    "if count % 2 ==0:\n",
    "    print ('even')"
   ]
  },
  {
   "cell_type": "code",
   "execution_count": 6,
   "metadata": {},
   "outputs": [
    {
     "name": "stdout",
     "output_type": "stream",
     "text": [
      "a=10 is greater\n"
     ]
    }
   ],
   "source": [
    "a = 10\n",
    "b = 5\n",
    "c = 3\n",
    "\n",
    "if a > b and a>c:\n",
    "    print (f'{a=} is greater')\n",
    "if b>c and b>a :\n",
    "    print (f'{b=} is greater')\n",
    "if c>a and c> b:\n",
    "    print (f'{c=} is greater')\n"
   ]
  },
  {
   "cell_type": "code",
   "execution_count": 1,
   "metadata": {},
   "outputs": [
    {
     "name": "stdout",
     "output_type": "stream",
     "text": [
      "you are fool and you are b\n"
     ]
    }
   ],
   "source": [
    "a = int(input('enter num1'))\n",
    "b= int (input('enter num2'))\n",
    "\n",
    "if a>=b:\n",
    "    print (' you are a genius and you are a')\n",
    "else:\n",
    "    print ('you are fool and you are b')\n"
   ]
  },
  {
   "cell_type": "code",
   "execution_count": 11,
   "metadata": {},
   "outputs": [
    {
     "data": {
      "text/plain": [
       "5"
      ]
     },
     "execution_count": 11,
     "metadata": {},
     "output_type": "execute_result"
    }
   ],
   "source": [
    "list = [ 'whatsapp', 'picsart' , 'chrome' , 'gmail' , 'fb' ]\n",
    "len(list)"
   ]
  },
  {
   "cell_type": "code",
   "execution_count": 17,
   "metadata": {},
   "outputs": [
    {
     "name": "stdout",
     "output_type": "stream",
     "text": [
      "hurray 😍\n"
     ]
    }
   ],
   "source": [
    "username = input ('enter your name ')\n",
    "email = input ('enter your mail')\n",
    "pwd1 = input ('enter your password')\n",
    "pwd2 = input ('confirm your password')\n",
    "\n",
    "if len(username)>=4 and len(username)<=15:\n",
    "    if '@' in email and email.islower()  and len(email)>10 :\n",
    "        if len(pwd1)> 6 and pwd1 != username:\n",
    "            if pwd1 ==pwd2:\n",
    "                print ('hurray 😍')\n",
    "        else:\n",
    "            print ('password do not match 😢')\n",
    "    else:\n",
    "        print (' password is invalid 🤦‍♂️')\n",
    "else:\n",
    "        print ('password is invalid 🤦‍♀️')\n",
    "        "
   ]
  },
  {
   "attachments": {},
   "cell_type": "markdown",
   "metadata": {},
   "source": [
    " # if - elif"
   ]
  },
  {
   "cell_type": "code",
   "execution_count": 9,
   "metadata": {},
   "outputs": [
    {
     "name": "stdout",
     "output_type": "stream",
     "text": [
      "you are intelligent\n"
     ]
    }
   ],
   "source": [
    "name = input('enter name ')\n",
    "max_marks = int (input('enter the marks'))\n",
    "if max_marks>=90:\n",
    "    print ('you are outstanding')\n",
    "elif max_marks>=75:\n",
    "    print ('you are intelligent')\n",
    "elif max_marks >=50:\n",
    "    print ('you are good perfomer')\n",
    "else:\n",
    "    print ('poor')"
   ]
  },
  {
   "cell_type": "code",
   "execution_count": 6,
   "metadata": {},
   "outputs": [
    {
     "name": "stdout",
     "output_type": "stream",
     "text": [
      "number is even\n"
     ]
    }
   ],
   "source": [
    "num = int(input('enter a number'))\n",
    "\n",
    "if num%2==0:\n",
    "    print ('number is even')\n",
    "else:\n",
    "    print ('number is odd')"
   ]
  }
 ],
 "metadata": {
  "kernelspec": {
   "display_name": "base",
   "language": "python",
   "name": "python3"
  },
  "language_info": {
   "codemirror_mode": {
    "name": "ipython",
    "version": 3
   },
   "file_extension": ".py",
   "mimetype": "text/x-python",
   "name": "python",
   "nbconvert_exporter": "python",
   "pygments_lexer": "ipython3",
   "version": "3.10.8"
  },
  "orig_nbformat": 4,
  "vscode": {
   "interpreter": {
    "hash": "b14076757f31534bf71a7a1238d985fe39fb51a1b6902fe9aa0c842ffbdb42f3"
   }
  }
 },
 "nbformat": 4,
 "nbformat_minor": 2
}
