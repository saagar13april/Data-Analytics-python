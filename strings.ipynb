{
 "cells": [
  {
   "cell_type": "code",
   "execution_count": 2,
   "metadata": {},
   "outputs": [
    {
     "name": "stdout",
     "output_type": "stream",
     "text": [
      "string[0] =  d\n",
      "string[1] = i\n",
      "string[-1] = m\n",
      "string [-2] =  u\n"
     ]
    }
   ],
   "source": [
    "# Accesssing string characters in Python\n",
    "\n",
    "string = 'digipodium'\n",
    "\n",
    "# first character \n",
    "print ('string[0] = ' , string[0])\n",
    "\n",
    "# second character \n",
    "print ('string[1] =' , string[1])\n",
    "\n",
    "# third character \n",
    "print ('string[-1] =' , string [-1])\n",
    "\n",
    "# second last character\n",
    "print ('string [-2] = ' ,  string [-2])\n",
    "\n"
   ]
  },
  {
   "attachments": {},
   "cell_type": "markdown",
   "metadata": {},
   "source": [
    "## Slicing\n"
   ]
  },
  {
   "cell_type": "code",
   "execution_count": 6,
   "metadata": {},
   "outputs": [
    {
     "data": {
      "text/plain": [
       "26"
      ]
     },
     "execution_count": 6,
     "metadata": {},
     "output_type": "execute_result"
    }
   ],
   "source": [
    "alphabets = \"abcdefghijklmnopqrstuvwxyz\"\n",
    "len(alphabets)"
   ]
  },
  {
   "attachments": {},
   "cell_type": "markdown",
   "metadata": {},
   "source": [
    "# syntax\n",
    "###### s[start : end ]\n",
    "###### s[:end]  # from 0 to  end\n",
    "###### s[start:] # from start to end"
   ]
  },
  {
   "cell_type": "code",
   "execution_count": 7,
   "metadata": {},
   "outputs": [
    {
     "data": {
      "text/plain": [
       "'ghijklmnopqrst'"
      ]
     },
     "execution_count": 7,
     "metadata": {},
     "output_type": "execute_result"
    }
   ],
   "source": [
    "alphabets[6:-6]\n"
   ]
  },
  {
   "cell_type": "code",
   "execution_count": 11,
   "metadata": {},
   "outputs": [
    {
     "data": {
      "text/plain": [
       "'mnopqrstuvwx'"
      ]
     },
     "execution_count": 11,
     "metadata": {},
     "output_type": "execute_result"
    }
   ],
   "source": [
    "alphabets[-14:-2]"
   ]
  },
  {
   "cell_type": "code",
   "execution_count": 16,
   "metadata": {},
   "outputs": [
    {
     "data": {
      "text/plain": [
       "'mnopqrstuvwx'"
      ]
     },
     "execution_count": 16,
     "metadata": {},
     "output_type": "execute_result"
    }
   ],
   "source": [
    "alphabets[12:-2]"
   ]
  },
  {
   "cell_type": "code",
   "execution_count": 17,
   "metadata": {},
   "outputs": [
    {
     "name": "stdout",
     "output_type": "stream",
     "text": [
      "abcde vwxyz klmno\n"
     ]
    }
   ],
   "source": [
    "first_five = alphabets [:5]  # first five characters \n",
    "last_five = alphabets [-5:]  # last five characters\n",
    "x=10\n",
    "high_five = alphabets [x:x+5]  # 5 characters starting at index 10\n",
    "print (first_five ,  last_five  , high_five)"
   ]
  },
  {
   "cell_type": "code",
   "execution_count": 19,
   "metadata": {},
   "outputs": [
    {
     "name": "stdout",
     "output_type": "stream",
     "text": [
      "acegikmoqsuwy\n"
     ]
    }
   ],
   "source": [
    "every_even_index = alphabets [::2]  # every other character\n",
    "print (every_even_index)"
   ]
  },
  {
   "cell_type": "code",
   "execution_count": 20,
   "metadata": {},
   "outputs": [
    {
     "name": "stdout",
     "output_type": "stream",
     "text": [
      "bdfhjlnprtvxz\n"
     ]
    }
   ],
   "source": [
    "every_odd_index = alphabets [1::2]  # every other character\n",
    "print (every_odd_index)"
   ]
  },
  {
   "cell_type": "code",
   "execution_count": 1,
   "metadata": {},
   "outputs": [
    {
     "name": "stdout",
     "output_type": "stream",
     "text": [
      "ioeyni\n",
      "lvmida\n",
      "aidniymevoli\n"
     ]
    }
   ],
   "source": [
    "name = 'ilovemyindia'\n",
    "name_even = name[::2]\n",
    "name_odd = name [1::2]\n",
    "rev_name = name [::-1]  \n",
    "print (name_even , name_odd , rev_name , sep='\\n')"
   ]
  },
  {
   "cell_type": "code",
   "execution_count": 37,
   "metadata": {},
   "outputs": [
    {
     "name": "stdout",
     "output_type": "stream",
     "text": [
      "65\n",
      "66\n",
      "67\n",
      "128513\n",
      "128525\n",
      "48\n"
     ]
    }
   ],
   "source": [
    "print (ord('A'))\n",
    "print (ord('B'))\n",
    "print (ord('C'))\n",
    "print (ord('😁'))\n",
    "print (ord('😍'))\n",
    "print (ord('0'))\n",
    "\n"
   ]
  },
  {
   "cell_type": "code",
   "execution_count": 11,
   "metadata": {},
   "outputs": [
    {
     "name": "stdout",
     "output_type": "stream",
     "text": [
      "😁\n",
      "B\n",
      "0\n",
      "😃\n",
      "C\n"
     ]
    }
   ],
   "source": [
    "print(chr(128513))\n",
    "print(chr(66))\n",
    "print(chr(48))\n",
    "print(chr(128515))\n",
    "print(chr(67))"
   ]
  },
  {
   "cell_type": "code",
   "execution_count": 5,
   "metadata": {},
   "outputs": [
    {
     "name": "stdout",
     "output_type": "stream",
     "text": [
      "hihihihihihihihihihihihihihihihihihihihihihihihihihihihihihihihihihihihihihihihihihihihihihihihihihi\n"
     ]
    }
   ],
   "source": [
    "word =  'hi'\n",
    "print ( word * 50)"
   ]
  },
  {
   "cell_type": "code",
   "execution_count": 3,
   "metadata": {},
   "outputs": [
    {
     "name": "stdout",
     "output_type": "stream",
     "text": [
      "                            S                            \n",
      "                           SSS                           \n",
      "                          SSSSS                          \n",
      "                         SSSSSSS                         \n",
      "                        SSSSSSSSS                        \n",
      "                       SSSSSSSSSSS                       \n",
      "                      SSSSSSSSSSSSS                      \n",
      "                     SSSSSSSSSSSSSSS                     \n",
      "                    SSSSSSSSSSSSSSSSS                    \n",
      "                   SSSSSSSSSSSSSSSSSSS                   \n",
      "                  SSSSSSSSSSSSSSSSSSSSS                  \n",
      "                 SSSSSSSSSSSSSSSSSSSSSSS                 \n",
      "                SSSSSSSSSSSSSSSSSSSSSSSSS                \n",
      "               SSSSSSSSSSSSSSSSSSSSSSSSSSS               \n",
      "              SSSSSSSSSSSSSSSSSSSSSSSSSSSSS              \n"
     ]
    }
   ],
   "source": [
    "for i in range (1,30,2):\n",
    "    print( (i *'S').center(57))"
   ]
  },
  {
   "cell_type": "code",
   "execution_count": 28,
   "metadata": {},
   "outputs": [
    {
     "ename": "TypeError",
     "evalue": "'str' object does not support item assignment",
     "output_type": "error",
     "traceback": [
      "\u001b[1;31m---------------------------------------------------------------------------\u001b[0m",
      "\u001b[1;31mTypeError\u001b[0m                                 Traceback (most recent call last)",
      "Cell \u001b[1;32mIn[28], line 3\u001b[0m\n\u001b[0;32m      1\u001b[0m \u001b[39m#  string is always immutable \u001b[39;00m\n\u001b[1;32m----> 3\u001b[0m name[\u001b[39m0\u001b[39;49m] \u001b[39m=\u001b[39m \u001b[39m'\u001b[39m\u001b[39mX\u001b[39m\u001b[39m'\u001b[39m   \u001b[39m# error \u001b[39;00m\n",
      "\u001b[1;31mTypeError\u001b[0m: 'str' object does not support item assignment"
     ]
    }
   ],
   "source": [
    "#  string is always immutable \n",
    "\n",
    "name[0] = 'X'   # error "
   ]
  },
  {
   "cell_type": "code",
   "execution_count": null,
   "metadata": {},
   "outputs": [],
   "source": []
  }
 ],
 "metadata": {
  "kernelspec": {
   "display_name": "base",
   "language": "python",
   "name": "python3"
  },
  "language_info": {
   "codemirror_mode": {
    "name": "ipython",
    "version": 3
   },
   "file_extension": ".py",
   "mimetype": "text/x-python",
   "name": "python",
   "nbconvert_exporter": "python",
   "pygments_lexer": "ipython3",
   "version": "3.10.8"
  },
  "orig_nbformat": 4,
  "vscode": {
   "interpreter": {
    "hash": "b14076757f31534bf71a7a1238d985fe39fb51a1b6902fe9aa0c842ffbdb42f3"
   }
  }
 },
 "nbformat": 4,
 "nbformat_minor": 2
}
